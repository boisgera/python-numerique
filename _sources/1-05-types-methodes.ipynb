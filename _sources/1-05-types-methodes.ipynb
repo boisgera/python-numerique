{
 "cells": [
  {
   "cell_type": "markdown",
   "id": "da26f236",
   "metadata": {
    "slideshow": {
     "slide_type": "slide"
    }
   },
   "source": [
    "<div class=\"licence\">\n",
    "<span>Licence CC BY-NC-ND</span>\n",
    "<span>Thierry Parmentelat</span>\n",
    "</div>\n",
    "\n",
    "<img src=\"media/inria-25-alpha.png\" />"
   ]
  },
  {
   "cell_type": "markdown",
   "id": "ed615f4f",
   "metadata": {
    "slideshow": {
     "slide_type": ""
    }
   },
   "source": [
    "# objets, types et méthodes"
   ]
  },
  {
   "cell_type": "markdown",
   "id": "82fc13e9",
   "metadata": {
    "slideshow": {
     "slide_type": "slide"
    }
   },
   "source": [
    "## Python est un paradigme orienté objet  \n",
    "\n",
    "cela signifie que toutes vos données sont des objets  \n",
    "entre autres choses chaque objet a un type"
   ]
  },
  {
   "cell_type": "code",
   "execution_count": 1,
   "id": "c474d541",
   "metadata": {
    "cell_style": "split",
    "slideshow": {
     "slide_type": "slide"
    }
   },
   "outputs": [],
   "source": [
    "# en Python absolument toutes les données\n",
    "# en mémoire sont des objets\n",
    "# chaque objet possède (entre autres)\n",
    "# un type\n",
    "\n",
    "# un module\n",
    "import math\n",
    "\n",
    "# un nombre\n",
    "x = 4 * math.pi\n",
    "\n",
    "# une chaine\n",
    "texte = \"une chaine\"\n",
    "\n",
    "# une fonction\n",
    "def fact(n):\n",
    "    return 1 if n <= 1 else n * fact(n-1)"
   ]
  },
  {
   "cell_type": "code",
   "execution_count": 2,
   "id": "8aa367cc",
   "metadata": {
    "cell_style": "split"
   },
   "outputs": [
    {
     "data": {
      "text/plain": [
       "float"
      ]
     },
     "execution_count": 2,
     "metadata": {},
     "output_type": "execute_result"
    }
   ],
   "source": [
    "type(x)"
   ]
  },
  {
   "cell_type": "code",
   "execution_count": 3,
   "id": "b6e7f1bc",
   "metadata": {
    "cell_style": "split"
   },
   "outputs": [
    {
     "data": {
      "text/plain": [
       "str"
      ]
     },
     "execution_count": 3,
     "metadata": {},
     "output_type": "execute_result"
    }
   ],
   "source": [
    "type(texte)"
   ]
  },
  {
   "cell_type": "code",
   "execution_count": 4,
   "id": "eb321bdb",
   "metadata": {
    "cell_style": "split"
   },
   "outputs": [
    {
     "data": {
      "text/plain": [
       "function"
      ]
     },
     "execution_count": 4,
     "metadata": {},
     "output_type": "execute_result"
    }
   ],
   "source": [
    "type(fact)"
   ]
  },
  {
   "cell_type": "code",
   "execution_count": 5,
   "id": "b28ba27a",
   "metadata": {
    "cell_style": "split"
   },
   "outputs": [
    {
     "data": {
      "text/plain": [
       "module"
      ]
     },
     "execution_count": 5,
     "metadata": {},
     "output_type": "execute_result"
    }
   ],
   "source": [
    "type(math)"
   ]
  },
  {
   "cell_type": "markdown",
   "id": "f97dd505",
   "metadata": {
    "slideshow": {
     "slide_type": "slide"
    }
   },
   "source": [
    "## méthode = fonction attachée à un type"
   ]
  },
  {
   "cell_type": "markdown",
   "id": "761629ce",
   "metadata": {},
   "source": [
    "lorsqu'on appelle un méthode sur un objet,  \n",
    "la syntaxe est donc  \n",
    "\n",
    "```python\n",
    "objet.methode(parametre)\n",
    "```\n",
    "\n",
    "ce qui se passe c'est que\n",
    "\n",
    "* on cherche la méthode **à partir du type** de `objet`  \n",
    "* on trouve une **fonction**, et on l'appelle\n",
    "* avec en premier argument l'objet"
   ]
  },
  {
   "cell_type": "markdown",
   "id": "aacb8cfa",
   "metadata": {
    "slideshow": {
     "slide_type": "slide"
    }
   },
   "source": [
    "## appel de méthode illustré"
   ]
  },
  {
   "cell_type": "code",
   "execution_count": 6,
   "id": "099c1dce",
   "metadata": {
    "cell_style": "split",
    "slideshow": {
     "slide_type": ""
    }
   },
   "outputs": [
    {
     "data": {
      "text/plain": [
       "'bonjour'"
      ]
     },
     "execution_count": 6,
     "metadata": {},
     "output_type": "execute_result"
    }
   ],
   "source": [
    "chaine = \"bonjour\"\n",
    "chaine"
   ]
  },
  {
   "cell_type": "code",
   "execution_count": 7,
   "id": "d83a8b8e",
   "metadata": {
    "cell_style": "split"
   },
   "outputs": [
    {
     "data": {
      "text/plain": [
       "<method 'capitalize' of 'str' objects>"
      ]
     },
     "execution_count": 7,
     "metadata": {},
     "output_type": "execute_result"
    }
   ],
   "source": [
    "# la recherche de 'capitalize'\n",
    "# à partir de `chaine`\n",
    "# trouve une fonction rangée\n",
    "# dans le type `str`\n",
    "\n",
    "la_methode = str.capitalize\n",
    "la_methode"
   ]
  },
  {
   "cell_type": "code",
   "execution_count": 8,
   "id": "75ee38c0",
   "metadata": {
    "cell_style": "split"
   },
   "outputs": [
    {
     "data": {
      "text/plain": [
       "'Bonjour'"
      ]
     },
     "execution_count": 8,
     "metadata": {},
     "output_type": "execute_result"
    }
   ],
   "source": [
    "# lorsqu'on écrit ceci\n",
    "chaine.capitalize()"
   ]
  },
  {
   "cell_type": "code",
   "execution_count": 9,
   "id": "815dd80e",
   "metadata": {
    "cell_style": "split"
   },
   "outputs": [
    {
     "data": {
      "text/plain": [
       "'Bonjour'"
      ]
     },
     "execution_count": 9,
     "metadata": {},
     "output_type": "execute_result"
    }
   ],
   "source": [
    "# c'est comme si on avait\n",
    "# écrit\n",
    "la_methode(chaine)"
   ]
  },
  {
   "cell_type": "code",
   "execution_count": 10,
   "id": "c92757da",
   "metadata": {
    "cell_style": "split"
   },
   "outputs": [
    {
     "data": {
      "text/plain": [
       "'---bonjour---'"
      ]
     },
     "execution_count": 10,
     "metadata": {},
     "output_type": "execute_result"
    }
   ],
   "source": [
    "# si on passe des arguments\n",
    "chaine.center(13, '-')"
   ]
  },
  {
   "cell_type": "code",
   "execution_count": 11,
   "id": "d557a818",
   "metadata": {
    "cell_style": "split"
   },
   "outputs": [
    {
     "data": {
      "text/plain": [
       "'---bonjour---'"
      ]
     },
     "execution_count": 11,
     "metadata": {},
     "output_type": "execute_result"
    }
   ],
   "source": [
    "# ils sont ajoutés après l'objet\n",
    "str.center(chaine, 13, '-')"
   ]
  },
  {
   "cell_type": "markdown",
   "id": "71e62408",
   "metadata": {
    "slideshow": {
     "slide_type": "slide"
    }
   },
   "source": [
    "## à quoi ça sert ?\n",
    "\n",
    "par rapport à un appel de fonction, 2 avantages\n",
    "\n",
    "* la résolution du nom de la méthode se fait à l'exécution\n",
    "  * le même code se comporte différemment\n",
    "  * sur des entrées de type différents\n",
    "  * permet d'écrire du code plus générique\n",
    "\n",
    "* espaces de nom plus propres  \n",
    "  pas besoin d'inventer des noms comme `str_capitalize`"
   ]
  }
 ],
 "metadata": {
  "jupytext": {
   "cell_metadata_filter": "all, -hidden, -heading_collapsed, -run_control, -trusted",
   "notebook_metadata_filter": "all, -jupytext.text_representation.jupytext_version, -jupytext.text_representation.format_version, -language_info.version, -language_info.codemirror_mode.version, -language_info.codemirror_mode, -language_info.file_extension, -language_info.mimetype, -toc",
   "text_representation": {
    "extension": ".md",
    "format_name": "myst"
   }
  },
  "kernelspec": {
   "display_name": "Python 3",
   "language": "python",
   "name": "python3"
  },
  "language_info": {
   "codemirror_mode": {
    "name": "ipython",
    "version": 3
   },
   "file_extension": ".py",
   "mimetype": "text/x-python",
   "name": "python",
   "nbconvert_exporter": "python",
   "pygments_lexer": "ipython3",
   "version": "3.9.5"
  },
  "notebookname": "objets, types et méthodes",
  "rise": {
   "autolaunch": true,
   "slideNumber": "c/t",
   "start_slideshow_at": "selected",
   "theme": "sky",
   "transition": "cube"
  },
  "source_map": [
   27,
   36,
   40,
   47,
   72,
   78,
   84,
   90,
   96,
   100,
   115,
   119,
   129,
   141,
   148,
   156,
   163,
   170
  ],
  "version": "1.0"
 },
 "nbformat": 4,
 "nbformat_minor": 5
}