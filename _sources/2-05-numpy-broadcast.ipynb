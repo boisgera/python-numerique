{
 "cells": [
  {
   "cell_type": "markdown",
   "id": "0bf4d640",
   "metadata": {},
   "source": [
    "<div class=\"licence\">\n",
    "<span>Licence CC BY-NC-ND</span>\n",
    "<span>Valérie Roy</span>\n",
    "</div>\n",
    "\n",
    "<img src=\"media/ensmp-25-alpha.png\" />"
   ]
  },
  {
   "cell_type": "markdown",
   "id": "7aacf05e",
   "metadata": {},
   "source": [
    "Vous y êtes habitués, on importe notre librarie `numpy`"
   ]
  },
  {
   "cell_type": "code",
   "execution_count": 1,
   "id": "79984fe3",
   "metadata": {},
   "outputs": [],
   "source": [
    "import numpy as np"
   ]
  },
  {
   "cell_type": "markdown",
   "id": "f705598e",
   "metadata": {
    "tags": []
   },
   "source": [
    "# broadcasting\n",
    "\n",
    "ou comment faire des opérations sur des tableaux qui ont des formes différentes"
   ]
  },
  {
   "cell_type": "markdown",
   "id": "d32867af",
   "metadata": {},
   "source": [
    "## opération sur des tableaux de même forme"
   ]
  },
  {
   "cell_type": "markdown",
   "id": "4ea67795",
   "metadata": {},
   "source": [
    "Vous savez désormais construire des tableaux `np.ndarray` en leur donnant des formes (vecteurs, matrices, images...) et vous savez faires des opérations vectorielles (vectorisées) sur ces tableaux `np.ndarray`."
   ]
  },
  {
   "cell_type": "markdown",
   "id": "5a87e0b1",
   "metadata": {},
   "source": [
    "Construisons deux matrices donnons leur la même **forme** et (par exemple) des types différents:\n",
    "   - `m1` de forme (3, 4) et de type entier contenant les valeurs de 1 à 12\n",
    "   - `m2` de forme (3, 4) et de type float contenant des valeurs entre 0 et 1\n",
    "   \n",
    "Pour les ajouter il n'y aura pas de problème: leur formes sont indentiques (bien sûr si les types ne sont pas cohérents pour l'addition vous aurez des erreurs mais d'un autre genre)."
   ]
  },
  {
   "cell_type": "code",
   "execution_count": 2,
   "id": "0f8f3a65",
   "metadata": {},
   "outputs": [
    {
     "data": {
      "text/plain": [
       "array([[ 1,  2,  3,  4],\n",
       "       [ 5,  6,  7,  8],\n",
       "       [ 9, 10, 11, 12]])"
      ]
     },
     "execution_count": 2,
     "metadata": {},
     "output_type": "execute_result"
    }
   ],
   "source": [
    "m1 = np.arange(1, 13).reshape(3, 4)\n",
    "m1"
   ]
  },
  {
   "cell_type": "code",
   "execution_count": 3,
   "id": "f17d8a52",
   "metadata": {},
   "outputs": [
    {
     "data": {
      "text/plain": [
       "array([[0.        , 0.09090909, 0.18181818, 0.27272727],\n",
       "       [0.36363636, 0.45454545, 0.54545455, 0.63636364],\n",
       "       [0.72727273, 0.81818182, 0.90909091, 1.        ]])"
      ]
     },
     "execution_count": 3,
     "metadata": {},
     "output_type": "execute_result"
    }
   ],
   "source": [
    "m2 = np.linspace(0, 1, 12).reshape(3, 4)\n",
    "m2"
   ]
  },
  {
   "cell_type": "markdown",
   "id": "c50dd255",
   "metadata": {},
   "source": [
    "Pour que ce soit plus lisible, on va arrondir les valeurs de la matrice `m2` à 2 chiffres après la virgule avec la fonction `np.round`, et pour éviter une duplication inutile, on lui indique que sa sortie `out` est elle même:"
   ]
  },
  {
   "cell_type": "code",
   "execution_count": 4,
   "id": "524f595a",
   "metadata": {},
   "outputs": [
    {
     "data": {
      "text/plain": [
       "array([[0.  , 0.09, 0.18, 0.27],\n",
       "       [0.36, 0.45, 0.55, 0.64],\n",
       "       [0.73, 0.82, 0.91, 1.  ]])"
      ]
     },
     "execution_count": 4,
     "metadata": {},
     "output_type": "execute_result"
    }
   ],
   "source": [
    "# on arrondit sans copier le tableau\n",
    "np.round(m2, 2, out=m2)"
   ]
  },
  {
   "cell_type": "markdown",
   "id": "1a527bd9",
   "metadata": {},
   "source": [
    "Maintenant ajoutons `m1` et `m2`, On obtient bien ce qu'on attendait:"
   ]
  },
  {
   "cell_type": "code",
   "execution_count": 5,
   "id": "76384bac",
   "metadata": {},
   "outputs": [
    {
     "data": {
      "text/plain": [
       "array([[ 1.  ,  2.09,  3.18,  4.27],\n",
       "       [ 5.36,  6.45,  7.55,  8.64],\n",
       "       [ 9.73, 10.82, 11.91, 13.  ]])"
      ]
     },
     "execution_count": 5,
     "metadata": {},
     "output_type": "execute_result"
    }
   ],
   "source": [
    "m1 + m2"
   ]
  },
  {
   "cell_type": "markdown",
   "id": "9dcc1fa8",
   "metadata": {},
   "source": [
    "Donc jusqu'ici nous avons fait une addition sous une forme vectorisée, rien de nouveau."
   ]
  },
  {
   "cell_type": "markdown",
   "id": "a7193751",
   "metadata": {},
   "source": [
    "## opération sur tableaux de formes différentes (*broadcasting*)"
   ]
  },
  {
   "cell_type": "markdown",
   "id": "976484a2",
   "metadata": {},
   "source": [
    "Mais supposons maintenant que nous voulions ajouter **le même scalaire** à tous les éléments d'une matrice. Par exemple on a une matrice d'entiers de taille (3000, 3000) et on veut ajouter 1 à tous les éléments.\n",
    "\n",
    "Pour le faire, on peut créer une nouvelle matrice de `1` de la même taille et les ajouter...\n",
    "\n",
    "Franchement, cela demande des manipulations mémoire qui prennent une place inutile et ne sont pas informatives (on a une matrice  de 9 millions de `1`), ensuite elles n'améliorent pas le code voire elles nuisent à sa lisibilité.\n",
    "\n",
    "Bref c'est complètement sous-optimal. `numpy` propose une manière abrégée d'écrire afin de ne pas avoir à créer de tableaux inutiles, `numpy` se chargera de faire les *bonnes* opérations.\n",
    "\n",
    "On appelle cela le broadcasting"
   ]
  },
  {
   "cell_type": "markdown",
   "id": "d0be6fce",
   "metadata": {},
   "source": [
    "### comment ça marche ?"
   ]
  },
  {
   "cell_type": "markdown",
   "id": "e4a921e8",
   "metadata": {},
   "source": [
    "Souvenez-vous, en `numpy` les tableaux peuvent être de différentes dimensions:\n",
    "   - en dimension 1 ce sont de simples vecteurs de taille *n* avec *shape=(n,)*\n",
    "   - en dimension 2 ce sont des  matrices avec *shape=(l, c)* où *l* est le nombre de lignes et *c* de colonnes (qui peuvent être 1)\n",
    "   - en dimension supérieures avec shape=$(n_1, ..., n_m, l, c)$ les deux dernières dimensions vont être une matrice"
   ]
  },
  {
   "cell_type": "markdown",
   "id": "fd09f18e",
   "metadata": {
    "tags": []
   },
   "source": [
    "Une matrice (1, 1) est aussi de dimension 2..."
   ]
  },
  {
   "cell_type": "code",
   "execution_count": 6,
   "id": "96030adb",
   "metadata": {
    "tags": []
   },
   "outputs": [
    {
     "name": "stdout",
     "output_type": "stream",
     "text": [
      "mat=[[1]] est de dimension 2 !\n"
     ]
    }
   ],
   "source": [
    "mat = np.array([1]).reshape(1, 1)\n",
    "# utilisation d'un f-string (c'est super pratique)\n",
    "print(f'mat={mat} est de dimension {mat.ndim} !')"
   ]
  },
  {
   "cell_type": "markdown",
   "id": "5fa3dab8",
   "metadata": {
    "tags": [
     "level_advanced"
    ]
   },
   "source": [
    "et, parlant de *f-string* d'ailleurs, je vous signale en passant que lorsqu'on a Python-3.8, on peut même raccourcir et transformer\n",
    "\n",
    "    print(f'mat={mat}')\n",
    "\n",
    "par tout simplement\n",
    "\n",
    "    print(f'{mat=}')\n",
    "\n",
    "mais reprenons..."
   ]
  },
  {
   "cell_type": "markdown",
   "id": "0c64fda5",
   "metadata": {},
   "source": [
    "Revenons à notre problème d'opérations sur des tableaux de formes différentes. Les opérations dont nous parlons ici sont les opérations qui agissent élément par élément, comme des opérations arithmétiques.\n",
    "\n",
    "`numpy` relâche donc la contrainte et permet aux tableaux impliqués dans des opérations d'avoir des formes différentes et des tailles différentes.\n",
    "\n",
    "Cela permet des codes plus condensés, plus lisibles et (souvent mais pas toujours) plus rapides que leur version explicite (où tous les tableaux auraient la même forme lors des opérations)\n",
    "\n",
    "Naturellement ces formes doivent obéir à certaines conditions ! On ne va pas pouvoir faire n'importe quoi !\n",
    "\n",
    "On va d'abord voir des exemples puis ensuite donner la règle:"
   ]
  },
  {
   "cell_type": "markdown",
   "id": "e5368d71",
   "metadata": {},
   "source": [
    "Le plus simple: j'ajoute un tableau de dimension 1 ou même un simple scalaire à un tableau de dimension supérieure."
   ]
  },
  {
   "cell_type": "code",
   "execution_count": 7,
   "id": "1cf260db",
   "metadata": {},
   "outputs": [
    {
     "data": {
      "text/plain": [
       "array([10, 11, 12, 13, 14, 15])"
      ]
     },
     "execution_count": 7,
     "metadata": {},
     "output_type": "execute_result"
    }
   ],
   "source": [
    "tab = np.array([0, 1, 2, 3, 4, 5]) # voila le tableau de taille (6,)\n",
    "tab + 10 "
   ]
  },
  {
   "cell_type": "markdown",
   "id": "7c71b599",
   "metadata": {},
   "source": [
    "Ou bien, ce qui est sémantiquement pareil:"
   ]
  },
  {
   "cell_type": "code",
   "execution_count": 8,
   "id": "6ac5b04e",
   "metadata": {},
   "outputs": [
    {
     "data": {
      "text/plain": [
       "array([10, 11, 12, 13, 14, 15])"
      ]
     },
     "execution_count": 8,
     "metadata": {},
     "output_type": "execute_result"
    }
   ],
   "source": [
    "tab = np.array([0, 1, 2, 3, 4, 5])\n",
    "tab + [ 10 ]"
   ]
  },
  {
   "cell_type": "markdown",
   "id": "58ec23fd",
   "metadata": {},
   "source": [
    "Que s'est-il passé ?\n",
    "\n",
    "Oui là, le scalaire `10` a été considéré comme un tableau, de la même forme que `tab`\n",
    ", i.e. de 6 éléments (avec la valeur 10). Nous disons \"*considéré*\" parce que l'intérêt est bien que ce tableau n'ait jamais été créé du tout, l'opération est gérée dans le code `numpy` sous-jacent."
   ]
  },
  {
   "cell_type": "markdown",
   "id": "8973a289",
   "metadata": {},
   "source": [
    "En Python qu'est ce que cela donnerait sur une liste ? Essayons :"
   ]
  },
  {
   "cell_type": "code",
   "execution_count": 9,
   "id": "822727cf",
   "metadata": {},
   "outputs": [
    {
     "data": {
      "text/plain": [
       "[1, 2, 3, 4, 5, 6, 10]"
      ]
     },
     "execution_count": 9,
     "metadata": {},
     "output_type": "execute_result"
    }
   ],
   "source": [
    "[1, 2, 3, 4, 5, 6] + [10]"
   ]
  },
  {
   "cell_type": "markdown",
   "id": "b56067c6",
   "metadata": {},
   "source": [
    "Ah oui c'est très différent ! (c'est bien que Python ait appelé cela des listes et non des tableaux ...)"
   ]
  },
  {
   "cell_type": "markdown",
   "id": "a0bcb829",
   "metadata": {},
   "source": [
    "Passons en dimension 2 et ajoutons 10 à une matrice (2, 3):"
   ]
  },
  {
   "cell_type": "code",
   "execution_count": 10,
   "id": "db39e1e4",
   "metadata": {},
   "outputs": [
    {
     "data": {
      "text/plain": [
       "array([[10, 11, 12],\n",
       "       [13, 14, 15]])"
      ]
     },
     "execution_count": 10,
     "metadata": {},
     "output_type": "execute_result"
    }
   ],
   "source": [
    "tab1 = np.arange(6).reshape(2, 3)\n",
    "tab1 + 10"
   ]
  },
  {
   "cell_type": "markdown",
   "id": "2c141087",
   "metadata": {},
   "source": [
    "Alors comment 10 a-t-il été considéré ? Oui là 10 a été considéré comme une matrice de forme 2 x 3 d'éléments de valeur 10."
   ]
  },
  {
   "cell_type": "markdown",
   "id": "1fa3cbf8",
   "metadata": {},
   "source": [
    "On peut continuer à l'infini. A vous de jouer faites une matrice de 3 x 2 x 3 et ajoutez lui 10 le tout en une seule ligne de code."
   ]
  },
  {
   "cell_type": "code",
   "execution_count": 11,
   "id": "fa008c03",
   "metadata": {},
   "outputs": [],
   "source": [
    "# votre code ici"
   ]
  },
  {
   "cell_type": "markdown",
   "id": "498cd66c",
   "metadata": {},
   "source": [
    "Maintenant passons à des ajouts de tableaux à la place d'un scalaire.  \n",
    "Prenons une matrice, par exemple, de 3 x 5."
   ]
  },
  {
   "cell_type": "code",
   "execution_count": 12,
   "id": "ff48803b",
   "metadata": {},
   "outputs": [
    {
     "data": {
      "text/plain": [
       "array([[ 0,  1,  2,  3,  4],\n",
       "       [ 5,  6,  7,  8,  9],\n",
       "       [10, 11, 12, 13, 14]])"
      ]
     },
     "execution_count": 12,
     "metadata": {},
     "output_type": "execute_result"
    }
   ],
   "source": [
    "mat = np.arange(15).reshape(3, 5)\n",
    "mat"
   ]
  },
  {
   "cell_type": "markdown",
   "id": "acb166b2",
   "metadata": {},
   "source": [
    "Qu'est ce que `numpy` peut faire si nous ajoutons, à la matrice `mat` de 3 lignes et 5 colonnes, un tableau de la forme d'une ligne de `mat` ?\n",
    "\n",
    "C'est à dire de forme `(5,)` ou encore de forme `(1, 5)` ? Voici une ligne de la première forme:"
   ]
  },
  {
   "cell_type": "code",
   "execution_count": 13,
   "id": "ba86a6cc",
   "metadata": {},
   "outputs": [
    {
     "data": {
      "text/plain": [
       "(5,)"
      ]
     },
     "execution_count": 13,
     "metadata": {},
     "output_type": "execute_result"
    }
   ],
   "source": [
    "line = np.array([100, 200, 300, 400, 500])\n",
    "line.shape"
   ]
  },
  {
   "cell_type": "code",
   "execution_count": 14,
   "id": "67ff33fc",
   "metadata": {},
   "outputs": [
    {
     "data": {
      "text/plain": [
       "array([[100, 201, 302, 403, 504],\n",
       "       [105, 206, 307, 408, 509],\n",
       "       [110, 211, 312, 413, 514]])"
      ]
     },
     "execution_count": 14,
     "metadata": {},
     "output_type": "execute_result"
    }
   ],
   "source": [
    "# et oui, on peut ajouter (3, 5) avec (5,)\n",
    "mat + line"
   ]
  },
  {
   "cell_type": "markdown",
   "id": "811791fa",
   "metadata": {},
   "source": [
    "Donc ici, `numpy` décide de répéter 3 fois cette ligne pour obtenir une matrice de la même forme que `mat` i.e. (3, 5).  \n",
    "On fait de même avec une matrice de dimension (1, 5) donc 1 ligne et 5 colonnes."
   ]
  },
  {
   "cell_type": "code",
   "execution_count": 15,
   "id": "9d35cf33",
   "metadata": {},
   "outputs": [
    {
     "data": {
      "text/plain": [
       "(1, 5)"
      ]
     },
     "execution_count": 15,
     "metadata": {},
     "output_type": "execute_result"
    }
   ],
   "source": [
    "line1 = line.reshape(1, 5)\n",
    "line1.shape"
   ]
  },
  {
   "cell_type": "code",
   "execution_count": 16,
   "id": "4f093445",
   "metadata": {},
   "outputs": [
    {
     "data": {
      "text/plain": [
       "array([[100, 201, 302, 403, 504],\n",
       "       [105, 206, 307, 408, 509],\n",
       "       [110, 211, 312, 413, 514]])"
      ]
     },
     "execution_count": 16,
     "metadata": {},
     "output_type": "execute_result"
    }
   ],
   "source": [
    "# et oui, on peut ajouter (3, 5) avec (1, 5)\n",
    "mat + line1"
   ]
  },
  {
   "cell_type": "markdown",
   "id": "c0cc4d04",
   "metadata": {},
   "source": [
    "Et donc il accepte aussi: il répéte 3 fois cette matrice-ligne pour obtenir une matrice de la même forme que `mat`"
   ]
  },
  {
   "cell_type": "markdown",
   "id": "7f4d3358",
   "metadata": {},
   "source": [
    "Vous essayez avec les colonnes ? Il va donc falloir ajouter, à notre matrice de 3 lignes et 5 colonnes, une matrice composée d'une seule colonne et de 3 lignes, qui sera un tableau de taille (3, 1)."
   ]
  },
  {
   "cell_type": "code",
   "execution_count": 17,
   "id": "51a820d8",
   "metadata": {},
   "outputs": [
    {
     "data": {
      "text/plain": [
       "(3, 1)"
      ]
     },
     "execution_count": 17,
     "metadata": {},
     "output_type": "execute_result"
    }
   ],
   "source": [
    "col = np.array([1000, 2000, 3000]).reshape(3, 1)\n",
    "col.shape"
   ]
  },
  {
   "cell_type": "code",
   "execution_count": 18,
   "id": "98e8cdb0",
   "metadata": {},
   "outputs": [
    {
     "data": {
      "text/plain": [
       "array([[1000, 1001, 1002, 1003, 1004],\n",
       "       [2005, 2006, 2007, 2008, 2009],\n",
       "       [3010, 3011, 3012, 3013, 3014]])"
      ]
     },
     "execution_count": 18,
     "metadata": {},
     "output_type": "execute_result"
    }
   ],
   "source": [
    "# et oui, on peut ajouter (3, 5) avec (3, 1)\n",
    "mat + col"
   ]
  },
  {
   "cell_type": "markdown",
   "id": "a54ba6b7",
   "metadata": {},
   "source": [
    "ca fait exactement ce à quoi on s'attend !"
   ]
  },
  {
   "cell_type": "markdown",
   "id": "6609afde",
   "metadata": {},
   "source": [
    "Et si on essayait d'ajouter une matrice comportant une seule ligne (par exemple de taille (1, 5)) avec une matrice comportant une seule colonne (par exemple de taille (3, 1)) ?"
   ]
  },
  {
   "cell_type": "markdown",
   "id": "3df944dc",
   "metadata": {},
   "source": [
    "Donc on va ajouter ces deux objets"
   ]
  },
  {
   "cell_type": "code",
   "execution_count": 19,
   "id": "f6f2adb0",
   "metadata": {
    "cell_style": "split"
   },
   "outputs": [
    {
     "data": {
      "text/plain": [
       "array([100, 200, 300, 400, 500])"
      ]
     },
     "execution_count": 19,
     "metadata": {},
     "output_type": "execute_result"
    }
   ],
   "source": [
    "line"
   ]
  },
  {
   "cell_type": "code",
   "execution_count": 20,
   "id": "8f1c871b",
   "metadata": {
    "cell_style": "split"
   },
   "outputs": [
    {
     "data": {
      "text/plain": [
       "array([[1000],\n",
       "       [2000],\n",
       "       [3000]])"
      ]
     },
     "execution_count": 20,
     "metadata": {},
     "output_type": "execute_result"
    }
   ],
   "source": [
    "col"
   ]
  },
  {
   "cell_type": "code",
   "execution_count": 21,
   "id": "ecfc47bb",
   "metadata": {},
   "outputs": [
    {
     "data": {
      "text/plain": [
       "array([[1100, 1200, 1300, 1400, 1500],\n",
       "       [2100, 2200, 2300, 2400, 2500],\n",
       "       [3100, 3200, 3300, 3400, 3500]])"
      ]
     },
     "execution_count": 21,
     "metadata": {},
     "output_type": "execute_result"
    }
   ],
   "source": [
    "# et ça nous donne \n",
    "line + col"
   ]
  },
  {
   "cell_type": "markdown",
   "id": "ec51c03a",
   "metadata": {},
   "source": [
    "Oui il déduit bien ce que nous attendions !"
   ]
  },
  {
   "cell_type": "markdown",
   "id": "433ba478",
   "metadata": {},
   "source": [
    "Alors maintenant, on commence à saisir sa manière de faire !\n",
    "\n",
    "Pour les avancés on peut regarder la règle."
   ]
  },
  {
   "cell_type": "markdown",
   "id": "d3fce646",
   "metadata": {
    "tags": [
     "level_intermediate"
    ]
   },
   "source": [
    "## règles de broadcasting (pour les avancés)"
   ]
  },
  {
   "cell_type": "markdown",
   "id": "29d75a80",
   "metadata": {
    "tags": [
     "level_intermediate"
    ]
   },
   "source": [
    "Les dimensions des deux tableaux (sur lesquels une opération élément-par-élément est appliquée), sont comparées de droite à gauche.\n",
    "\n",
    "Dans cet ordre, les dimensions sont prises par paire, le broadcasting sera possible:\n",
    "   1. soit si les deux dimensions sont identiques\n",
    "   1. soit si l'une des 2 dimensions vaut 1 et auquel cas elle est élargie à la dimension compatible"
   ]
  },
  {
   "cell_type": "markdown",
   "id": "b99b9aae",
   "metadata": {
    "tags": [
     "level_intermediate"
    ]
   },
   "source": [
    "Explicitons sur un exemple."
   ]
  },
  {
   "cell_type": "markdown",
   "id": "6064a3a6",
   "metadata": {
    "tags": [
     "level_intermediate"
    ]
   },
   "source": [
    "on se donne $A=\\begin{pmatrix} a_{11} & a_{12} & a_{13} \\\\ a_{21} & a_{22} & a_{23} \\\\  \\end{pmatrix}$ et $b$ un tableau à un scalaire, donc de forme `(1,)`\n",
    "\n",
    "on calcule `A + b`\n",
    "\n",
    "la forme de *A* est $(2_A, 3_A)$ et la forme de *b* est ($1_b$,) , on compare les dimensions de droite\n",
    "\n",
    "$3_A$ est associé à $1_b$, et du coup $b$ est élargi à $\\begin{pmatrix} b & b & b  \\end{pmatrix}$ de dimension $(1_b, 3_b)$\n",
    "\n",
    "on ajoute maintenant un tableau $(2_A, 3_A)$ à une ligne $(1_b, 3_b)$  \n",
    "   \n",
    "   $\\begin{pmatrix} a_{11} & a_{12} & a_{13} \\\\ a_{21} & a_{22} & a_{23} \\\\  \\end{pmatrix} + \\begin{pmatrix} b & b & b  \\end{pmatrix}$   \n",
    "   \n",
    "on compare les dimensions suivantes, $2_a$ est comparé à $1_b$, et de nouveau $b$ est élargi à la dimension $(2_b, 3_b)$\n",
    "\n",
    "  $\\begin{pmatrix} a_{11} & a_{12} & a_{13} \\\\ a_{21} & a_{22} & a_{23} \\\\  \\end{pmatrix} + \\begin{pmatrix} b & b & b \\\\ b & b & b \\end{pmatrix} = \\begin{pmatrix} a_{11} + b & a_{12} + b & a_{13} + b \\\\ a_{21} + b & a_{22} + b & a_{23} + b \\\\  \\end{pmatrix}$   \n",
    "   \n",
    "les formes sont désormais compatibles, les deux tableaux peuvent être ajoutés !"
   ]
  },
  {
   "cell_type": "markdown",
   "id": "4648b7c7",
   "metadata": {
    "tags": [
     "level_intermediate"
    ]
   },
   "source": [
    "Et naturellement quand les formes ne sont pas consistantes, `numpy` va rejeter le programme en vous envoyant une erreur de type `ValueError`."
   ]
  },
  {
   "cell_type": "code",
   "execution_count": 22,
   "id": "8ea53644",
   "metadata": {
    "cell_style": "center",
    "hide_input": false,
    "tags": [
     "raises-exception",
     "level_intermediate"
    ]
   },
   "outputs": [
    {
     "ename": "ValueError",
     "evalue": "operands could not be broadcast together with shapes (2,3) (2,4) ",
     "output_type": "error",
     "traceback": [
      "\u001b[0;31m---------------------------------------------------------------------------\u001b[0m",
      "\u001b[0;31mValueError\u001b[0m                                Traceback (most recent call last)",
      "\u001b[0;32m/tmp/ipykernel_2058/2566193894.py\u001b[0m in \u001b[0;36m<module>\u001b[0;34m\u001b[0m\n\u001b[1;32m      2\u001b[0m \u001b[0mm2\u001b[0m \u001b[0;34m=\u001b[0m \u001b[0mnp\u001b[0m\u001b[0;34m.\u001b[0m\u001b[0marange\u001b[0m\u001b[0;34m(\u001b[0m\u001b[0;36m8\u001b[0m\u001b[0;34m)\u001b[0m\u001b[0;34m.\u001b[0m\u001b[0mreshape\u001b[0m\u001b[0;34m(\u001b[0m\u001b[0;36m2\u001b[0m\u001b[0;34m,\u001b[0m \u001b[0;36m4\u001b[0m\u001b[0;34m)\u001b[0m\u001b[0;34m\u001b[0m\u001b[0;34m\u001b[0m\u001b[0m\n\u001b[1;32m      3\u001b[0m \u001b[0;34m\u001b[0m\u001b[0m\n\u001b[0;32m----> 4\u001b[0;31m \u001b[0mm1\u001b[0m \u001b[0;34m+\u001b[0m \u001b[0mm2\u001b[0m\u001b[0;34m\u001b[0m\u001b[0;34m\u001b[0m\u001b[0m\n\u001b[0m",
      "\u001b[0;31mValueError\u001b[0m: operands could not be broadcast together with shapes (2,3) (2,4) "
     ]
    }
   ],
   "source": [
    "m1 = np.arange(6).reshape(2, 3)\n",
    "m2 = np.arange(8).reshape(2, 4)\n",
    "\n",
    "m1 + m2"
   ]
  },
  {
   "cell_type": "markdown",
   "id": "1379753a",
   "metadata": {
    "tags": [
     "level_intermediate"
    ]
   },
   "source": [
    "On la rattrape ?"
   ]
  },
  {
   "cell_type": "code",
   "execution_count": 23,
   "id": "5f30b76c",
   "metadata": {
    "cell_style": "center",
    "tags": [
     "level_intermediate"
    ]
   },
   "outputs": [
    {
     "name": "stdout",
     "output_type": "stream",
     "text": [
      "[[0 1 2]\n",
      " [3 4 5]]\n",
      "+\n",
      "[[0 1 2 3]\n",
      " [4 5 6 7]]\n",
      " ➡ operands could not be broadcast together with shapes (2,3) (2,4) \n"
     ]
    }
   ],
   "source": [
    "try:\n",
    "    m1 + m2\n",
    "except ValueError as exc:\n",
    "    print(f'{m1}\\n+\\n{m2}\\n ➡ {exc}')"
   ]
  },
  {
   "cell_type": "markdown",
   "id": "b56c8e71",
   "metadata": {
    "tags": [
     "level_intermediate"
    ]
   },
   "source": [
    "Encore un exemple où on ajoute une matrice comportant une seule ligne à une matrice comportant une seule colonne pour avoir une nouvelle matrice."
   ]
  },
  {
   "cell_type": "markdown",
   "id": "34d766d9",
   "metadata": {
    "tags": [
     "level_intermediate"
    ]
   },
   "source": [
    "on veut faire l'opération $\\begin{pmatrix} a_{1} & a_{2} & a_{3} \\end{pmatrix} + \\begin{pmatrix} b_1 \\\\ b_2 \\\\ b_3 \\\\ b_4 \\end{pmatrix}$\n",
    "\n",
    "la forme de la matrice *a* est $(1_a, 3_a)$, la forme de la matrice *b* est $(4_b, 1_b)$\n",
    "\n",
    "`numpy` compare $3_a$ à $1_b$ et il élargit *b* à $\\begin{pmatrix} b_1 & b_1 & b_1 \\\\ b_2 & b_2 & b_2 \\\\ b_3 & b_3 & b_3 \\\\ b_4 & b_a & b_4 \\end{pmatrix}$\n",
    "\n",
    "on ajoute maintenant un tableau $(1_a, 3_a)$ à une matrice $(4_b, 3_b)$\n",
    "\n",
    "$\\begin{pmatrix} a_{1} & a_{2} & a_{3} \\end{pmatrix} + \\begin{pmatrix} b_1 & b_1 & b_1 \\\\ b_2 & b_2 & b_2 \\\\ b_3 & b_3 & b_3 \\\\ b_4 & b_a & b_4 \\end{pmatrix}$\n",
    " \n",
    "   \n",
    "`numpy` compare les dimensions $1_a$ et $4_b$, et il élargit $a$ à $\\begin{pmatrix} a_{1} & a_{2} & a_{3} \\\\ a_{1} & a_{2} & a_{3} \\\\ a_{1} & a_{2} & a_{3} \\\\ a_{1} & a_{2} & a_{3} \\end{pmatrix}$\n",
    "   \n",
    " \n",
    "$\\begin{pmatrix} a_{1} & a_{2} & a_{3} \\\\ a_{1} & a_{2} & a_{3} \\\\ a_{1} & a_{2} & a_{3} \\\\ a_{1} & a_{2} & a_{3} \\end{pmatrix} + \\begin{pmatrix} b_1 & b_1 & b_1 \\\\ b_2 & b_2 & b_2 \\\\ b_3 & b_3 & b_3 \\\\ b_4 & b_a & b_4 \\end{pmatrix} = \\begin{pmatrix} a_{1} + b_1 & a_{2} + b_1 & a_{3} + b_1 \\\\ a_{1} + b_2 & a_{2} + b_2 & a_{3} + b_2 \\\\ a_{1} + b_3 & a_{2} + b_3 & a_{3}  + b_3\\\\ a_{1} + b_4 & a_{2} + b_4 & a_{3} + b_4 \\end{pmatrix}$\n",
    " \n",
    "     \n",
    "   \n",
    "   \n",
    "les formes sont désormais compatibles, les deux tableaux ont pu être ajoutés !"
   ]
  },
  {
   "cell_type": "markdown",
   "id": "80c6a33a",
   "metadata": {},
   "source": [
    "## le broadcasting en dimension > 2"
   ]
  },
  {
   "cell_type": "markdown",
   "id": "9d122317",
   "metadata": {},
   "source": [
    "Naturellement le broadcasting se généralise à des dimensions supérieures à 2."
   ]
  },
  {
   "cell_type": "code",
   "execution_count": 24,
   "id": "2d35918d",
   "metadata": {},
   "outputs": [
    {
     "data": {
      "text/plain": [
       "array([[[ 0,  1,  2,  3],\n",
       "        [ 4,  5,  6,  7],\n",
       "        [ 8,  9, 10, 11]],\n",
       "\n",
       "       [[12, 13, 14, 15],\n",
       "        [16, 17, 18, 19],\n",
       "        [20, 21, 22, 23]]])"
      ]
     },
     "execution_count": 24,
     "metadata": {},
     "output_type": "execute_result"
    }
   ],
   "source": [
    "m = np.arange(24).reshape(2, 3, 4)\n",
    "m"
   ]
  },
  {
   "cell_type": "markdown",
   "id": "584810a8",
   "metadata": {},
   "source": [
    "ajout d'un scalaire"
   ]
  },
  {
   "cell_type": "code",
   "execution_count": 25,
   "id": "d349daa4",
   "metadata": {},
   "outputs": [
    {
     "data": {
      "text/plain": [
       "array([[[10, 11, 12, 13],\n",
       "        [14, 15, 16, 17],\n",
       "        [18, 19, 20, 21]],\n",
       "\n",
       "       [[22, 23, 24, 25],\n",
       "        [26, 27, 28, 29],\n",
       "        [30, 31, 32, 33]]])"
      ]
     },
     "execution_count": 25,
     "metadata": {},
     "output_type": "execute_result"
    }
   ],
   "source": [
    "m + 10"
   ]
  },
  {
   "cell_type": "markdown",
   "id": "46141761",
   "metadata": {},
   "source": [
    "ajout d'une matrice comportant une seule ligne ... il l'ajoute à toutes les lignes"
   ]
  },
  {
   "cell_type": "code",
   "execution_count": 26,
   "id": "d3347a61",
   "metadata": {},
   "outputs": [
    {
     "data": {
      "text/plain": [
       "array([[[100, 201, 302, 403],\n",
       "        [104, 205, 306, 407],\n",
       "        [108, 209, 310, 411]],\n",
       "\n",
       "       [[112, 213, 314, 415],\n",
       "        [116, 217, 318, 419],\n",
       "        [120, 221, 322, 423]]])"
      ]
     },
     "execution_count": 26,
     "metadata": {},
     "output_type": "execute_result"
    }
   ],
   "source": [
    "m + np.array([100, 200, 300, 400])"
   ]
  },
  {
   "cell_type": "markdown",
   "id": "a871182e",
   "metadata": {},
   "source": [
    "ajout d'une matrice comportant une seule colonne"
   ]
  },
  {
   "cell_type": "code",
   "execution_count": 27,
   "id": "76ca6040",
   "metadata": {},
   "outputs": [
    {
     "data": {
      "text/plain": [
       "array([[[1000, 1001, 1002, 1003],\n",
       "        [2004, 2005, 2006, 2007],\n",
       "        [3008, 3009, 3010, 3011]],\n",
       "\n",
       "       [[1012, 1013, 1014, 1015],\n",
       "        [2016, 2017, 2018, 2019],\n",
       "        [3020, 3021, 3022, 3023]]])"
      ]
     },
     "execution_count": 27,
     "metadata": {},
     "output_type": "execute_result"
    }
   ],
   "source": [
    "m + np.array([[1000], [2000], [3000]])"
   ]
  },
  {
   "cell_type": "markdown",
   "id": "3a3bdf16",
   "metadata": {},
   "source": [
    "ajout de 2 matrices comportant 1 seule ligne dont la forme est (2, 1, 4)"
   ]
  },
  {
   "cell_type": "code",
   "execution_count": 28,
   "id": "49397d2f",
   "metadata": {},
   "outputs": [
    {
     "data": {
      "text/plain": [
       "array([[[ 10000,  20000,  30000,  40000]],\n",
       "\n",
       "       [[-50000, -60000, -70000, -80000]]])"
      ]
     },
     "execution_count": 28,
     "metadata": {},
     "output_type": "execute_result"
    }
   ],
   "source": [
    "vecl = np.array([10000, 20000, 30000, 40000, -50000, -60000, -70000, -80000]).reshape(2, 1, 4)\n",
    "vecl"
   ]
  },
  {
   "cell_type": "code",
   "execution_count": 29,
   "id": "72e54b88",
   "metadata": {},
   "outputs": [
    {
     "data": {
      "text/plain": [
       "array([[[ 10000,  20001,  30002,  40003],\n",
       "        [ 10004,  20005,  30006,  40007],\n",
       "        [ 10008,  20009,  30010,  40011]],\n",
       "\n",
       "       [[-49988, -59987, -69986, -79985],\n",
       "        [-49984, -59983, -69982, -79981],\n",
       "        [-49980, -59979, -69978, -79977]]])"
      ]
     },
     "execution_count": 29,
     "metadata": {},
     "output_type": "execute_result"
    }
   ],
   "source": [
    "m + vecl"
   ]
  },
  {
   "cell_type": "markdown",
   "id": "ed8a0f4d",
   "metadata": {},
   "source": [
    "ajout de 2 matrices comportant une seule colonne donc de forme (2, 3, 1)"
   ]
  },
  {
   "cell_type": "code",
   "execution_count": 30,
   "id": "5a09405b",
   "metadata": {},
   "outputs": [
    {
     "data": {
      "text/plain": [
       "array([[[100000],\n",
       "        [200000],\n",
       "        [300000]],\n",
       "\n",
       "       [[400000],\n",
       "        [500000],\n",
       "        [600000]]])"
      ]
     },
     "execution_count": 30,
     "metadata": {},
     "output_type": "execute_result"
    }
   ],
   "source": [
    "vecc = np.array([100000, 200000, 300000, 400000, 500000, 600000]).reshape(2, 3, 1)\n",
    "vecc"
   ]
  },
  {
   "cell_type": "code",
   "execution_count": 31,
   "id": "da36c7f7",
   "metadata": {},
   "outputs": [
    {
     "data": {
      "text/plain": [
       "array([[[100000, 100001, 100002, 100003],\n",
       "        [200004, 200005, 200006, 200007],\n",
       "        [300008, 300009, 300010, 300011]],\n",
       "\n",
       "       [[400012, 400013, 400014, 400015],\n",
       "        [500016, 500017, 500018, 500019],\n",
       "        [600020, 600021, 600022, 600023]]])"
      ]
     },
     "execution_count": 31,
     "metadata": {},
     "output_type": "execute_result"
    }
   ],
   "source": [
    "m + vecc"
   ]
  },
  {
   "cell_type": "markdown",
   "id": "0903a994",
   "metadata": {},
   "source": [
    "A vous de jouer. Essayer d'ajouter un tableau (généré par `np.arange` qui contient les entiers de 0 à 11) de la forme: 4 fois 1 matrice de 3 lignes sur 1 colonne ... heu bon je pense que vous avez compris."
   ]
  },
  {
   "cell_type": "code",
   "execution_count": 32,
   "id": "32bd7a08",
   "metadata": {},
   "outputs": [],
   "source": [
    "# votre code ici"
   ]
  },
  {
   "cell_type": "markdown",
   "id": "a62d1097",
   "metadata": {
    "tags": [
     "level_advanced"
    ]
   },
   "source": [
    "Si vous êtes fort en Python, et que vous avez du temps, sauriez-vous coder en Python, la fonction qui détermine si deux formes (données par des tuples) sont compatibles pour le broadcasting ? à vous de jouer…"
   ]
  },
  {
   "cell_type": "code",
   "execution_count": 33,
   "id": "04eb6714",
   "metadata": {
    "tags": [
     "level_advanced"
    ]
   },
   "outputs": [],
   "source": [
    "# votre code ici\n",
    "\n",
    "def are_broadcast_compatible(shape1, shape2):\n",
    "    ..."
   ]
  },
  {
   "cell_type": "markdown",
   "id": "7fa6221b",
   "metadata": {},
   "source": [
    "## conclusion"
   ]
  },
  {
   "cell_type": "markdown",
   "id": "73a27f4f",
   "metadata": {},
   "source": [
    "Le broadcasting est très efficace. Les éléments broadcastés ne sont naturellement pas réellement créés en mémoire, mais le broadcasting est basé sur du code C optimisé qui va avoir le même genre d'efficacité que les opérations vectorisées. Donc à utiliser (intelligemment) !"
   ]
  },
  {
   "cell_type": "markdown",
   "id": "be3e02f5",
   "metadata": {},
   "source": [
    "## exercices"
   ]
  },
  {
   "cell_type": "markdown",
   "id": "9518754e",
   "metadata": {},
   "source": [
    "### comparaison des temps d'exécution de l'ajout d'un scalaire à une matrice"
   ]
  },
  {
   "cell_type": "markdown",
   "id": "d514aac5",
   "metadata": {},
   "source": [
    "Construisez une matrice de forme *(3000, 3000)* contenant les entiers à partir de 1.\n",
    "   1. Calculer le temps pour ajouter le scalaire *10* à cette matrice\n",
    "   1. Calculer le temps pour ajouter une matrice de taille de *(3000, 3000)* remplie de `1` à cette matrice.\n",
    "\n",
    "Pour la deuxième option, envisagez deux variantes dans lesquelles vous comptez ou non le temps nécessaire à la construction de la matrice temporaire\n",
    "\n",
    "Expliquez pourquoi on fait ça…"
   ]
  },
  {
   "cell_type": "code",
   "execution_count": 34,
   "id": "e54a4a9e",
   "metadata": {},
   "outputs": [],
   "source": [
    "# votre code"
   ]
  },
  {
   "cell_type": "markdown",
   "id": "91b6849f",
   "metadata": {},
   "source": [
    "### résultats du tirage de `n` dès à `s` faces"
   ]
  },
  {
   "cell_type": "markdown",
   "id": "2645d3c8",
   "metadata": {},
   "source": [
    "Deux versions pour cet exercice:\n",
    "   - la première est pour les débutants, elle est guidée et amène à construire le résultat pas à pas\n",
    "   - la deuxième est pour les forts qui se débrouillent tout seuls"
   ]
  },
  {
   "cell_type": "markdown",
   "id": "6fa4422b",
   "metadata": {},
   "source": [
    "#### version pour les débutants"
   ]
  },
  {
   "cell_type": "markdown",
   "id": "fd63b3c5",
   "metadata": {},
   "source": [
    "On veut calculer les résultats des tirages de `n` dés à `s` faces. Afin, par exemple de faire des probabilités d'obtention de certains tirages. De combien de manières différentes peut-on obtenir `7` avec `3` dès à `6` faces."
   ]
  },
  {
   "cell_type": "markdown",
   "id": "9a7be2b0",
   "metadata": {},
   "source": [
    "Si nous prenons un seul dès à `6` faces. Quels sont les tirages possibles ?\n",
    "\n",
    "oui `1, 2, 3, 4, 5, 6`\n",
    "\n",
    "Construisez alors un `numpy.ndarray` contenant les tirages d'un dès à `s` faces."
   ]
  },
  {
   "cell_type": "code",
   "execution_count": 35,
   "id": "bb694d72",
   "metadata": {},
   "outputs": [],
   "source": [
    "# votre code ici"
   ]
  },
  {
   "cell_type": "markdown",
   "id": "990d0a64",
   "metadata": {},
   "source": [
    "Maintenant si on prend `n=2` dès à `s=6` faces. Quels sont les tirages possibles ?\n",
    "\n",
    "Oui:\n",
    "\n",
    "|  +  | &#124; | 1 | 2 | 3 | 4 | 5 | 6 |\n",
    "|:---:|:------:|:-:|:-:|:-:|:-:|:-:|:-:|\n",
    "| *1* | &#124; | 2 | 3 | 4 | 5 | 6 | 7 | \n",
    "| *2* | &#124; | 3 | 4 | 5 | 6 | 7 | 8 | \n",
    "| *3* | &#124; | 4 | 5 | 6 | 7 | 8 | 9 | \n",
    "| *4* | &#124; | 5 | 6 | 7 | 8 | 9 |10 | \n",
    "| *5* | &#124; | 6 | 7 | 8 | 9 |10 |11 | \n",
    "| *6* | &#124; | 7 | 8 | 9 |10 |11 |12 | \n",
    "\n",
    "\n",
    "Construisez alors un `numpy.ndarray` contenant les tirages de `n=2` dès à `s=6` faces. Un indice ? Utilisez le `broadcasting`:\n",
    "\n",
    "On vous fait un rappel. Si on ajoute en `numpy` un tableau de forme `(3,)` à un tableau de forme `(3, 1)` on obtient la matrice suivante: $\\begin{pmatrix} a_{1} & a_{2} & a_{3} \\end{pmatrix} + \\begin{pmatrix} b_1 \\\\ b_2 \\\\ b_3 \\end{pmatrix} = \\begin{pmatrix} a_{1} + b_1 & a_{2} + b_1 & a_{3} + b_1 \\\\ a_{1} + b_2 & a_{2} + b_2 & a_{3} + b_2 \\\\ a_{1} + b_3 & a_{2} + b_3 & a_{3}  + b_3\\\\ a_{1} + b_4 & a_{2} + b_4 & a_{3} + b_4 \\end{pmatrix}$"
   ]
  },
  {
   "cell_type": "code",
   "execution_count": 36,
   "id": "cc62abcf",
   "metadata": {},
   "outputs": [],
   "source": [
    "# votre code ici"
   ]
  },
  {
   "cell_type": "markdown",
   "id": "eca3d008",
   "metadata": {},
   "source": [
    "On remarque que la dimension de notre tableau est le nombre de dès."
   ]
  },
  {
   "cell_type": "markdown",
   "id": "7c7b6537",
   "metadata": {},
   "source": [
    "On continue.\n",
    "\n",
    "Maintenant si je prends `3` dès avec `6` faces, je suis en dimension `3` et je veux donc obtenir un *cube* (avec tous les résultats). Pour obtenir ce cube, je pars de ma matrice (de forme `(s, s)`) des tirages en dimension 2 et j'utilise le broadcast pour lui ajouter une troisième dimension.\n",
    "\n",
    "Quelle est la forme de ce vecteur ? Il doit déclencher le broadcast donc il doit être de forme `(s, 1, 1)`.\n",
    "\n",
    "En effet  \n",
    "(i) la forme `(s, )` c'est la forme des lignes de la matrice  \n",
    "(ii) la forme `(s, 1)` est celle des colonnes  \n",
    "(iii) la forme `(1, ..., 1, s)` se broadcast en ligne comme `(1, s)` ou `(s,)` (essayez)\n",
    "(iv) la forme `(s, 1, 1)` forcera le broadcast en un cube\n",
    "\n",
    "Vous avez maintenant tous les indices pour généraliser en dimension `n` dès (vous aurez naturellement une boucle mais bien sûr pas sur les éléments d'un `numpy.ndarray` !)"
   ]
  },
  {
   "cell_type": "code",
   "execution_count": 37,
   "id": "c729518e",
   "metadata": {},
   "outputs": [],
   "source": [
    "# votre code ici"
   ]
  },
  {
   "cell_type": "markdown",
   "id": "3cf9717d",
   "metadata": {},
   "source": [
    "```python\n",
    "def tirages (n, s):\n",
    "    pass\n",
    "```"
   ]
  },
  {
   "cell_type": "markdown",
   "id": "fa079a92",
   "metadata": {},
   "source": [
    "Cet espace des tirage pourra nous resservir dans de futurs exercices.\n",
    "\n",
    "Vous remarquez qu'on est dans une manière de faire qui **explicite l'ensemble des solutions** ce qu'on appelle une méthode en force brute. Ces méthodes sont clairement exponentielles."
   ]
  },
  {
   "cell_type": "markdown",
   "id": "b2286d5f",
   "metadata": {
    "tags": [
     "level_advanced"
    ]
   },
   "source": [
    "#### les dès version  pour les forts"
   ]
  },
  {
   "cell_type": "markdown",
   "id": "eee2222a",
   "metadata": {
    "tags": [
     "level_advanced"
    ]
   },
   "source": [
    "On étudie les probabilités d'obtenir une certaine somme avec plusieurs dés. \n",
    "\n",
    "Tout le monde connaît le cas classique avec deux dés à 6 faces, ou l'on construit mentalement la grille suivante:\n",
    "\n",
    "|  +  | &#124; | 1 | 2 | 3 | 4 | 5 | 6 |\n",
    "|:---:|:------:|:-:|:-:|:-:|:-:|:-:|:-:|\n",
    "| *1* | &#124; | 2 | 3 | 4 | 5 | 6 | 7 | \n",
    "| *2* | &#124; | 3 | 4 | 5 | 6 | 7 | 8 | \n",
    "| *3* | &#124; | 4 | 5 | 6 | 7 | 8 | 9 | \n",
    "| *4* | &#124; | 5 | 6 | 7 | 8 | 9 |10 | \n",
    "| *5* | &#124; | 6 | 7 | 8 | 9 |10 |11 | \n",
    "| *6* | &#124; | 7 | 8 | 9 |10 |11 |12 | \n",
    "\n",
    "Imaginons que vous êtes un étudiant, vous venez de faire un exercice de maths qui vous a mené à une formule qui permet de calculer, pour un jeu à `nb_dice` dés, chacun à `sides` faces, le nombre de tirages qui donnent une certaine somme `target`.\n",
    "\n",
    "Vous voulez **vérifier votre formule**, en appliquant une **méthode de force brute**. C'est-à-dire constuire un hypercube avec toutes les possibilités de tirage, puis calculer pour chaque point dans l'hypercube la somme correspondante; de cette façon on pourra compter les occurrences de `target`.\n",
    "\n",
    "C'est l'objet de cet exercice. Vous devez écrire une fonction `dice` qui prend en paramètres:\n",
    "\n",
    "* `target` : la somme cible à atteindre,\n",
    "* `nb_dice` : le nombre de dés,\n",
    "* `sides`: le nombre de faces sur chaque dé.\n",
    "\n",
    "On convient que par défaut `nb_dice`=2 et `sides`=6, qui correspond au cas habituel.\n",
    "\n",
    "Dans ce cas-là par exemple, on voit, en comptant la longueur des diagonales sur la figure, que `dice(7)` doit valoir 6, puisque le tableau comporte 6 cases contenant 7 sur la diagonale.\n",
    "\n",
    "À nouveau, on demande explicitement ici un parcours de type force brute; c'est-à-dire de créer sous la forme d'un tableau `numpy`, un hypercube qui énumère toutes les combinaisons possibles; et sans faire de `for` sur les éléments d'un tableau."
   ]
  },
  {
   "cell_type": "markdown",
   "id": "98c77698",
   "metadata": {
    "tags": [
     "level_advanced"
    ]
   },
   "source": [
    "https://nbhosting.inria.fr/auditor/notebook/python-mooc:exos/w7/w7-s05-x4-dice"
   ]
  },
  {
   "cell_type": "markdown",
   "id": "a67eddd0",
   "metadata": {
    "tags": [
     "level_advanced"
    ]
   },
   "source": [
    "**Indice**\n",
    "\n",
    "Il existe en `numpy` une astuce pour augmenter la dimension d'un tableau, ça s'appelle `np.newaxis`, et ça s'utilise comme ceci"
   ]
  },
  {
   "cell_type": "code",
   "execution_count": 38,
   "id": "ff11e885",
   "metadata": {
    "cell_style": "center",
    "tags": [
     "level_advanced"
    ]
   },
   "outputs": [],
   "source": [
    "dice_1 = np.arange(1, 7)\n",
    "dice_2 = dice_1[:, np.newaxis]"
   ]
  },
  {
   "cell_type": "code",
   "execution_count": 39,
   "id": "efb3a7a5",
   "metadata": {
    "cell_style": "split",
    "tags": [
     "level_advanced"
    ]
   },
   "outputs": [
    {
     "data": {
      "text/plain": [
       "array([1, 2, 3, 4, 5, 6])"
      ]
     },
     "execution_count": 39,
     "metadata": {},
     "output_type": "execute_result"
    }
   ],
   "source": [
    "dice_1"
   ]
  },
  {
   "cell_type": "code",
   "execution_count": 40,
   "id": "3d34e5a4",
   "metadata": {
    "cell_style": "split",
    "tags": [
     "level_advanced"
    ]
   },
   "outputs": [
    {
     "data": {
      "text/plain": [
       "array([[1],\n",
       "       [2],\n",
       "       [3],\n",
       "       [4],\n",
       "       [5],\n",
       "       [6]])"
      ]
     },
     "execution_count": 40,
     "metadata": {},
     "output_type": "execute_result"
    }
   ],
   "source": [
    "dice_2"
   ]
  },
  {
   "cell_type": "markdown",
   "id": "fc609d53",
   "metadata": {
    "tags": [
     "level_advanced"
    ]
   },
   "source": [
    "et remarquez que pour créer le tableau ci-dessus il suffit de faire"
   ]
  },
  {
   "cell_type": "code",
   "execution_count": 41,
   "id": "d006aa1e",
   "metadata": {
    "tags": [
     "level_advanced"
    ]
   },
   "outputs": [
    {
     "data": {
      "text/plain": [
       "array([[ 2,  3,  4,  5,  6,  7],\n",
       "       [ 3,  4,  5,  6,  7,  8],\n",
       "       [ 4,  5,  6,  7,  8,  9],\n",
       "       [ 5,  6,  7,  8,  9, 10],\n",
       "       [ 6,  7,  8,  9, 10, 11],\n",
       "       [ 7,  8,  9, 10, 11, 12]])"
      ]
     },
     "execution_count": 41,
     "metadata": {},
     "output_type": "execute_result"
    }
   ],
   "source": [
    "dice_1 + dice_2"
   ]
  }
 ],
 "metadata": {
  "jupytext": {
   "cell_metadata_filter": "all,-hidden,-heading_collapsed",
   "cell_metadata_json": true,
   "notebook_metadata_filter": "all,-language_info,-toc,-jupytext.text_representation.jupytext_version,-jupytext.text_representation.format_version",
   "text_representation": {
    "extension": ".md",
    "format_name": "myst"
   }
  },
  "kernelspec": {
   "display_name": "Python 3",
   "language": "python",
   "name": "python3"
  },
  "language_info": {
   "codemirror_mode": {
    "name": "ipython",
    "version": 3
   },
   "file_extension": ".py",
   "mimetype": "text/x-python",
   "name": "python",
   "nbconvert_exporter": "python",
   "pygments_lexer": "ipython3",
   "version": "3.9.5"
  },
  "notebookname": "broadcasting",
  "source_map": [
   14,
   23,
   27,
   31,
   37,
   41,
   45,
   53,
   58,
   61,
   65,
   68,
   72,
   74,
   78,
   82,
   94,
   98,
   105,
   109,
   117,
   129,
   141,
   145,
   148,
   152,
   155,
   162,
   166,
   168,
   172,
   176,
   179,
   183,
   187,
   189,
   194,
   197,
   203,
   208,
   211,
   216,
   221,
   224,
   228,
   232,
   237,
   240,
   244,
   248,
   252,
   258,
   264,
   267,
   271,
   277,
   281,
   289,
   293,
   313,
   317,
   328,
   332,
   342,
   346,
   369,
   373,
   377,
   380,
   384,
   386,
   390,
   392,
   396,
   398,
   402,
   407,
   409,
   413,
   418,
   420,
   424,
   428,
   432,
   439,
   443,
   447,
   451,
   455,
   465,
   467,
   471,
   477,
   481,
   485,
   493,
   495,
   515,
   517,
   521,
   537,
   539,
   546,
   552,
   556,
   587,
   591,
   597,
   605,
   612,
   619,
   623
  ]
 },
 "nbformat": 4,
 "nbformat_minor": 5
}