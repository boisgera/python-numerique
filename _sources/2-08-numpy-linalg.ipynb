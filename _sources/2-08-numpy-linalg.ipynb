{
 "cells": [
  {
   "cell_type": "markdown",
   "id": "66cc0a98",
   "metadata": {},
   "source": [
    "<div class=\"licence\">\n",
    "<span>Licence CC BY-NC-ND</span>\n",
    "<span>Valérie Roy</span>\n",
    "</div>\n",
    "\n",
    "<img src=\"media/ensmp-25-alpha.png\" />"
   ]
  },
  {
   "cell_type": "code",
   "execution_count": 1,
   "id": "9e046587",
   "metadata": {},
   "outputs": [],
   "source": [
    "import numpy as np"
   ]
  },
  {
   "cell_type": "markdown",
   "id": "f65ade2c",
   "metadata": {},
   "source": [
    "# algèbre linéaire"
   ]
  },
  {
   "cell_type": "markdown",
   "id": "cd113e49",
   "metadata": {},
   "source": [
    "Un des premières utilisations de la librarie `numpy` sera faite dans le cadre des cours de mathématiques et de la manipulation de matrices.\n",
    "\n",
    "Aussi allons-nous voir dans ce notebook les quelques fonctions d'algèbre linéaire qui vont vous être utiles, naturellement il vous faudra vous référer au site de Python-scientifique pour chercher des fonctions plus avancées."
   ]
  },
  {
   "cell_type": "markdown",
   "id": "97a09cc1",
   "metadata": {
    "tags": [
     "level_intermediate"
    ]
   },
   "source": [
    "Il faut savoir que les fonctions d'algèbre linéaire des libraries `np.linalg` sont tout particulièrement efficaces et ce pour plusieurs raisons:\n",
    "   1. déjà ces fontions s'appuient sur les algorithmes efficaces \n",
    "   1. ensuite ces fonctions sont codées dans des langages de *bas niveau* très proches de la mémoire donc rapides\n",
    "   1. enfin les implémentations tirent parti du multithreading (où un programme est découpé en sous-programmes s'exécutant *en même temps*) qui permet de grandement améliorer les temps de calculs.\n",
    "\n",
    "Il existe des différences entre les fonctions de `numpy` et de `scipy` mais nous n'en dirons pas plus référez vous aux explications des concepteurs de ces librairies comme là  https://docs.scipy.org/doc/numpy/reference/routines.linalg.html"
   ]
  },
  {
   "cell_type": "code",
   "execution_count": 2,
   "id": "7ebfa5e4",
   "metadata": {},
   "outputs": [],
   "source": [
    "import numpy as np"
   ]
  },
  {
   "cell_type": "markdown",
   "id": "2cb2526f",
   "metadata": {},
   "source": [
    "La première chose à savoir c'est que naturellement les fonctions `numpy` vont s'appliquer sur des tableaux de dimensions supérieures à 2 mais, nous n'allons voir ici, que les vecteurs et matrices donc rester en dimension < à 3."
   ]
  },
  {
   "cell_type": "markdown",
   "id": "cdfc7fee",
   "metadata": {},
   "source": [
    "Nous n'avons vu pour l'instant que des opérations élément par élément. Comme par exemple le `np.mult` ou encore `*`, qui est le *produit matriciel de Hadamard*. Voyons maintenant les fonctions dédiées à l'algèbre linéaire."
   ]
  },
  {
   "cell_type": "markdown",
   "id": "b27b972e",
   "metadata": {},
   "source": [
    "## application linéaire"
   ]
  },
  {
   "cell_type": "markdown",
   "id": "4fa01f2e",
   "metadata": {},
   "source": [
    "On va se mettre d'accord sur matrice, vecteur et produit en `numpy`.\n",
    "\n",
    "Attention, comme les matrices et les vecteurs seront des `np.ndarray`, il faudra naturellement faire attention au type des éléments, lors d'éventuelles modifications. Si on tente de modifier un élément d'une matrice de type entier avec un nombre flottant, celui-ci sera tronqué et transformé en entier: vous perdrez de l'information."
   ]
  },
  {
   "cell_type": "markdown",
   "id": "e7f87065",
   "metadata": {},
   "source": [
    "### la matrice"
   ]
  },
  {
   "cell_type": "markdown",
   "id": "566ac0fa",
   "metadata": {},
   "source": [
    "Une matrice $A$ de dimension $m$ lignes et $n$ colonnes, qui représente une application linéaire $f$ d'un espace de dimension $n$ vers un espace de dimension $m$, est un `np.ndarray` de forme $(m, n)$."
   ]
  },
  {
   "cell_type": "markdown",
   "id": "3cdfe22f",
   "metadata": {},
   "source": [
    "Voila un exemple d'une matrice $A$ de dimension $(2 \\times 3)$"
   ]
  },
  {
   "cell_type": "code",
   "execution_count": 3,
   "id": "1c0effa0",
   "metadata": {},
   "outputs": [
    {
     "data": {
      "text/plain": [
       "array([[ 2,  3, -7],\n",
       "       [ 6, -4,  5]])"
      ]
     },
     "execution_count": 3,
     "metadata": {},
     "output_type": "execute_result"
    }
   ],
   "source": [
    "A = np.array([[2, 3, -7], [6, -4, 5]])\n",
    "A"
   ]
  },
  {
   "cell_type": "markdown",
   "id": "2414935f",
   "metadata": {},
   "source": [
    "### le vecteur"
   ]
  },
  {
   "cell_type": "markdown",
   "id": "7df7d643",
   "metadata": {},
   "source": [
    "Un vecteur $V$ de taille $n$, qui représente un vecteur d'un espace vectoriel de dimension $n$, est un `np.ndarray` de forme $(n,)$."
   ]
  },
  {
   "cell_type": "markdown",
   "id": "db23b3b9",
   "metadata": {},
   "source": [
    "Voila un exemple de vecteur $V$ de dimension $(3,)$"
   ]
  },
  {
   "cell_type": "code",
   "execution_count": 4,
   "id": "8aa8be73",
   "metadata": {},
   "outputs": [
    {
     "data": {
      "text/plain": [
       "array([ 1, -3,  8])"
      ]
     },
     "execution_count": 4,
     "metadata": {},
     "output_type": "execute_result"
    }
   ],
   "source": [
    "V = np.array([1, -3, 8])\n",
    "V"
   ]
  },
  {
   "cell_type": "markdown",
   "id": "8f23f107",
   "metadata": {},
   "source": [
    "Attention les `numpy.ndarray` suivant ne sont pas des vecteurs mais des matrices. Il y a bien deux dimensions."
   ]
  },
  {
   "cell_type": "code",
   "execution_count": 5,
   "id": "7df49bed",
   "metadata": {},
   "outputs": [
    {
     "data": {
      "text/plain": [
       "(1, 3)"
      ]
     },
     "execution_count": 5,
     "metadata": {},
     "output_type": "execute_result"
    }
   ],
   "source": [
    "np.array([[100, 200, 300]]).shape"
   ]
  },
  {
   "cell_type": "code",
   "execution_count": 6,
   "id": "4c47b407",
   "metadata": {},
   "outputs": [
    {
     "data": {
      "text/plain": [
       "(3, 1)"
      ]
     },
     "execution_count": 6,
     "metadata": {},
     "output_type": "execute_result"
    }
   ],
   "source": [
    "np.array([[100], [200], [300]]).shape"
   ]
  },
  {
   "cell_type": "markdown",
   "id": "17fb241c",
   "metadata": {},
   "source": [
    "Celui là est un vecteur au sens de l'UE11."
   ]
  },
  {
   "cell_type": "code",
   "execution_count": 7,
   "id": "7edc48a1",
   "metadata": {},
   "outputs": [
    {
     "data": {
      "text/plain": [
       "(3,)"
      ]
     },
     "execution_count": 7,
     "metadata": {},
     "output_type": "execute_result"
    }
   ],
   "source": [
    "np.array([100, 200, 300]).shape"
   ]
  },
  {
   "cell_type": "markdown",
   "id": "18ef3db7",
   "metadata": {},
   "source": [
    "### le produit d'une matrice et d'un vecteur"
   ]
  },
  {
   "cell_type": "markdown",
   "id": "af1a1471",
   "metadata": {},
   "source": [
    "Le produit $A \\cdot V$ représente $f(V)$."
   ]
  },
  {
   "cell_type": "markdown",
   "id": "d46d6997",
   "metadata": {},
   "source": [
    "Quel est en `numpy` le produit qu'on appelle ici $\\times$ ? C'est la fonction `np.dot` (ou encore la méthode `np.ndarray.dot`)."
   ]
  },
  {
   "cell_type": "markdown",
   "id": "a4d5ed23",
   "metadata": {},
   "source": [
    "Calculons $A \\cdot V$"
   ]
  },
  {
   "cell_type": "code",
   "execution_count": 8,
   "id": "85b3187f",
   "metadata": {
    "cell_style": "split"
   },
   "outputs": [
    {
     "data": {
      "text/plain": [
       "array([-63,  58])"
      ]
     },
     "execution_count": 8,
     "metadata": {},
     "output_type": "execute_result"
    }
   ],
   "source": [
    "# la fonction\n",
    "np.dot(A, V)"
   ]
  },
  {
   "cell_type": "code",
   "execution_count": 9,
   "id": "2d16ef81",
   "metadata": {
    "cell_style": "split"
   },
   "outputs": [
    {
     "data": {
      "text/plain": [
       "array([-63,  58])"
      ]
     },
     "execution_count": 9,
     "metadata": {},
     "output_type": "execute_result"
    }
   ],
   "source": [
    "# la méthode\n",
    "A.dot(V)"
   ]
  },
  {
   "cell_type": "markdown",
   "id": "5441a380",
   "metadata": {},
   "source": [
    "### le produit de deux matrices"
   ]
  },
  {
   "cell_type": "markdown",
   "id": "ebe7ccbb",
   "metadata": {},
   "source": [
    "Maintenant prenons $A$ et $B$, deux matrices représentant respectivement les applications linéaires $f$ et $g$, le produit de matrices $A \\cdot B$ est la composition des applications $ƒ ￮ g$."
   ]
  },
  {
   "cell_type": "markdown",
   "id": "65dd4319",
   "metadata": {},
   "source": [
    "$A$ on l'a déjà, prenons $B$"
   ]
  },
  {
   "cell_type": "code",
   "execution_count": 10,
   "id": "c273e67d",
   "metadata": {},
   "outputs": [
    {
     "data": {
      "text/plain": [
       "array([[-5,  4],\n",
       "       [ 3,  9],\n",
       "       [-4,  2]])"
      ]
     },
     "execution_count": 10,
     "metadata": {},
     "output_type": "execute_result"
    }
   ],
   "source": [
    "B = np.array([[-5, 4], [3, 9], [-4, 2]])\n",
    "B"
   ]
  },
  {
   "cell_type": "code",
   "execution_count": 11,
   "id": "37047282",
   "metadata": {
    "cell_style": "split"
   },
   "outputs": [
    {
     "data": {
      "text/plain": [
       "array([[ 27,  21],\n",
       "       [-62,  -2]])"
      ]
     },
     "execution_count": 11,
     "metadata": {},
     "output_type": "execute_result"
    }
   ],
   "source": [
    "np.dot(A, B)"
   ]
  },
  {
   "cell_type": "code",
   "execution_count": 12,
   "id": "d087b124",
   "metadata": {
    "cell_style": "split"
   },
   "outputs": [
    {
     "data": {
      "text/plain": [
       "array([[ 27,  21],\n",
       "       [-62,  -2]])"
      ]
     },
     "execution_count": 12,
     "metadata": {},
     "output_type": "execute_result"
    }
   ],
   "source": [
    "A.dot(B)"
   ]
  },
  {
   "cell_type": "markdown",
   "id": "eb84401c",
   "metadata": {},
   "source": [
    "### raccourci  *@* pour le produit matriciel\n",
    "\n",
    "Il s'avère que `numpy` possède un fonction `np.matmul` (qui en dimension 2 est à peu près équivalente à `np.dot`) et qui s'écrit aussi sous la forme *@*"
   ]
  },
  {
   "cell_type": "code",
   "execution_count": 13,
   "id": "1a10141f",
   "metadata": {},
   "outputs": [
    {
     "data": {
      "text/plain": [
       "array([[ 27,  21],\n",
       "       [-62,  -2]])"
      ]
     },
     "execution_count": 13,
     "metadata": {},
     "output_type": "execute_result"
    }
   ],
   "source": [
    "np.matmul(A, B)"
   ]
  },
  {
   "cell_type": "code",
   "execution_count": 14,
   "id": "55f135f6",
   "metadata": {
    "cell_style": "center"
   },
   "outputs": [
    {
     "data": {
      "text/plain": [
       "array([[ 27,  21],\n",
       "       [-62,  -2]])"
      ]
     },
     "execution_count": 14,
     "metadata": {},
     "output_type": "execute_result"
    }
   ],
   "source": [
    "A @ B"
   ]
  },
  {
   "cell_type": "markdown",
   "id": "16e665ce",
   "metadata": {},
   "source": [
    "Il existe des différences entre `np.matmul` et `np.dot`  tout d'abord , la multiplication par un scalaire n'est possible qu'avec `np.dot` mais surtout en dimensions supérieure à 2 leur comportement diffère complètement.\n",
    "\n",
    "Préférer utiliser `np.dot` (ou demandez à votre professeur de math)."
   ]
  },
  {
   "cell_type": "markdown",
   "id": "c2ebafc1",
   "metadata": {},
   "source": [
    "## le produit scalaire"
   ]
  },
  {
   "cell_type": "markdown",
   "id": "8bba1a7c",
   "metadata": {},
   "source": [
    "Si on applique le produit `np.dot` à deux vecteurs on en obtient le produit scalaire."
   ]
  },
  {
   "cell_type": "code",
   "execution_count": 15,
   "id": "85f6a904",
   "metadata": {},
   "outputs": [
    {
     "data": {
      "text/plain": [
       "array([ 1, -3,  8])"
      ]
     },
     "execution_count": 15,
     "metadata": {},
     "output_type": "execute_result"
    }
   ],
   "source": [
    "V1 = np.array([1, -3, 8])\n",
    "V1"
   ]
  },
  {
   "cell_type": "code",
   "execution_count": 16,
   "id": "e824b68a",
   "metadata": {},
   "outputs": [
    {
     "data": {
      "text/plain": [
       "array([-6,  4, -7])"
      ]
     },
     "execution_count": 16,
     "metadata": {},
     "output_type": "execute_result"
    }
   ],
   "source": [
    "V2 = np.array([-6, 4, -7])\n",
    "V2"
   ]
  },
  {
   "cell_type": "code",
   "execution_count": 17,
   "id": "20b7c6d5",
   "metadata": {
    "cell_style": "split"
   },
   "outputs": [
    {
     "data": {
      "text/plain": [
       "-74"
      ]
     },
     "execution_count": 17,
     "metadata": {},
     "output_type": "execute_result"
    }
   ],
   "source": [
    "np.dot(V1, V2)"
   ]
  },
  {
   "cell_type": "markdown",
   "id": "95100481",
   "metadata": {},
   "source": [
    "## la norme de vecteur"
   ]
  },
  {
   "cell_type": "markdown",
   "id": "2179219e",
   "metadata": {},
   "source": [
    "Pour un vecteur $V1 =[v_1, ..., v_n]$, , la norme `np.linalg.norm` sera la racine carré du produit scalaire par lui-même $\\displaystyle \\left\\|{ {V}}\\right\\|_{2}={\\sqrt {v_{1}^{2}+\\cdots +v_{n}^{2}}}$"
   ]
  },
  {
   "cell_type": "code",
   "execution_count": 18,
   "id": "dea08317",
   "metadata": {
    "cell_style": "split"
   },
   "outputs": [
    {
     "data": {
      "text/plain": [
       "8.602325267042627"
      ]
     },
     "execution_count": 18,
     "metadata": {},
     "output_type": "execute_result"
    }
   ],
   "source": [
    "# la fonction idoine\n",
    "np.linalg.norm(V1)"
   ]
  },
  {
   "cell_type": "code",
   "execution_count": 19,
   "id": "eb9c78c8",
   "metadata": {
    "cell_style": "split"
   },
   "outputs": [
    {
     "data": {
      "text/plain": [
       "8.602325267042627"
      ]
     },
     "execution_count": 19,
     "metadata": {},
     "output_type": "execute_result"
    }
   ],
   "source": [
    "# qu'on peut naturellement paraphraser en\n",
    "np.sqrt(V1.dot(V1))"
   ]
  },
  {
   "cell_type": "markdown",
   "id": "3c16185e",
   "metadata": {},
   "source": [
    "Pour les autres normes de matrices et vecteurs regardez là https://np.org/doc/stable/reference/generated/np.linalg.norm.html#np.linalg.norm"
   ]
  },
  {
   "cell_type": "markdown",
   "id": "6fdf0ea2",
   "metadata": {},
   "source": [
    "## la transposée d'une matrice"
   ]
  },
  {
   "cell_type": "markdown",
   "id": "3c092178",
   "metadata": {},
   "source": [
    "C'est la fonction `np.transpose`. Elle a une version courte `.T` pour écrire des codes plus lisibles."
   ]
  },
  {
   "cell_type": "code",
   "execution_count": 20,
   "id": "24b42bee",
   "metadata": {},
   "outputs": [
    {
     "data": {
      "text/plain": [
       "array([[ 1,  2,  3],\n",
       "       [ 4,  5,  6],\n",
       "       [ 7,  8,  9],\n",
       "       [10, 11, 12]])"
      ]
     },
     "execution_count": 20,
     "metadata": {},
     "output_type": "execute_result"
    }
   ],
   "source": [
    "A = np.arange(1, 13).reshape(4, 3)\n",
    "A"
   ]
  },
  {
   "cell_type": "code",
   "execution_count": 21,
   "id": "39542f62",
   "metadata": {
    "cell_style": "split"
   },
   "outputs": [
    {
     "data": {
      "text/plain": [
       "array([[ 1,  4,  7, 10],\n",
       "       [ 2,  5,  8, 11],\n",
       "       [ 3,  6,  9, 12]])"
      ]
     },
     "execution_count": 21,
     "metadata": {},
     "output_type": "execute_result"
    }
   ],
   "source": [
    "np.transpose(A)"
   ]
  },
  {
   "cell_type": "code",
   "execution_count": 22,
   "id": "d692a098",
   "metadata": {
    "cell_style": "split"
   },
   "outputs": [
    {
     "data": {
      "text/plain": [
       "array([[ 1,  4,  7, 10],\n",
       "       [ 2,  5,  8, 11],\n",
       "       [ 3,  6,  9, 12]])"
      ]
     },
     "execution_count": 22,
     "metadata": {},
     "output_type": "execute_result"
    }
   ],
   "source": [
    "A.T"
   ]
  },
  {
   "cell_type": "markdown",
   "id": "cb344617",
   "metadata": {},
   "source": [
    "## les matrices identité"
   ]
  },
  {
   "cell_type": "markdown",
   "id": "75b94466",
   "metadata": {},
   "source": [
    "En `numpy` la fonction porte le très joli nom de `eye` (parce que *eye* et *I* se prononcent pareil), elle renvoie des matrices de type flottant."
   ]
  },
  {
   "cell_type": "code",
   "execution_count": 23,
   "id": "40d89d26",
   "metadata": {},
   "outputs": [
    {
     "data": {
      "text/plain": [
       "array([[1., 0., 0., 0., 0.],\n",
       "       [0., 1., 0., 0., 0.],\n",
       "       [0., 0., 1., 0., 0.],\n",
       "       [0., 0., 0., 1., 0.],\n",
       "       [0., 0., 0., 0., 1.]])"
      ]
     },
     "execution_count": 23,
     "metadata": {},
     "output_type": "execute_result"
    }
   ],
   "source": [
    "A = np.eye(5)\n",
    "A"
   ]
  },
  {
   "cell_type": "markdown",
   "id": "47264ef5",
   "metadata": {},
   "source": [
    "## le déterminant d'une matrice\n",
    "\n",
    "Il est donné par la fonction `np.linalg.det`"
   ]
  },
  {
   "cell_type": "code",
   "execution_count": 24,
   "id": "62aefadc",
   "metadata": {},
   "outputs": [
    {
     "data": {
      "text/plain": [
       "array([[2., 0., 0.],\n",
       "       [0., 2., 0.],\n",
       "       [0., 0., 2.]])"
      ]
     },
     "execution_count": 24,
     "metadata": {},
     "output_type": "execute_result"
    }
   ],
   "source": [
    "A = 2*np.eye(3)\n",
    "A"
   ]
  },
  {
   "cell_type": "code",
   "execution_count": 25,
   "id": "94618e70",
   "metadata": {},
   "outputs": [
    {
     "data": {
      "text/plain": [
       "7.999999999999998"
      ]
     },
     "execution_count": 25,
     "metadata": {},
     "output_type": "execute_result"
    }
   ],
   "source": [
    "np.linalg.det(A)"
   ]
  },
  {
   "cell_type": "markdown",
   "id": "0a441000",
   "metadata": {},
   "source": [
    "Essayez de l'appliquer à une matrice qui n'est pas carrée ? Vous allez recevoir une `np.linalg.LinAlgError` !"
   ]
  },
  {
   "cell_type": "code",
   "execution_count": 26,
   "id": "2382efd5",
   "metadata": {},
   "outputs": [
    {
     "name": "stdout",
     "output_type": "stream",
     "text": [
      "Oups pas bon ! ou en mieux dit \"Last 2 dimensions of the array must be square\"\n"
     ]
    }
   ],
   "source": [
    "B = np.random.random(size=(3, 4))*10\n",
    "try:\n",
    "    np.linalg.det(B)\n",
    "except np.linalg.LinAlgError as e:\n",
    "    print(f'Oups pas bon ! ou en mieux dit \"{e}\"')"
   ]
  },
  {
   "cell_type": "markdown",
   "id": "cb60a3c3",
   "metadata": {
    "tags": [
     "level_basic"
    ]
   },
   "source": [
    "A vous de jouer. Faites une isométrie (une transformation qui conserve les longueurs) et calculez son déterminant."
   ]
  },
  {
   "cell_type": "code",
   "execution_count": 27,
   "id": "ee1eb155",
   "metadata": {},
   "outputs": [],
   "source": [
    "# votre code ici (une solution dessous)"
   ]
  },
  {
   "cell_type": "code",
   "execution_count": 28,
   "id": "55c03127",
   "metadata": {},
   "outputs": [
    {
     "name": "stdout",
     "output_type": "stream",
     "text": [
      "[[ 0 -1]\n",
      " [ 1  0]]\n"
     ]
    },
    {
     "data": {
      "text/plain": [
       "1.0"
      ]
     },
     "execution_count": 28,
     "metadata": {},
     "output_type": "execute_result"
    }
   ],
   "source": [
    "M = np.array([[0, -1], [1, 0]])\n",
    "print(M)\n",
    "np.linalg.det(M)"
   ]
  },
  {
   "cell_type": "code",
   "execution_count": 29,
   "id": "606a7e45",
   "metadata": {},
   "outputs": [
    {
     "name": "stdout",
     "output_type": "stream",
     "text": [
      "[[ 0 -1]\n",
      " [ 1  0]]\n"
     ]
    },
    {
     "data": {
      "text/plain": [
       "1.0"
      ]
     },
     "execution_count": 29,
     "metadata": {},
     "output_type": "execute_result"
    }
   ],
   "source": [
    "# une isométrie\n",
    "M = np.array([[0, -1], [1, 0]])\n",
    "print(M)\n",
    "np.linalg.det(M)"
   ]
  },
  {
   "cell_type": "markdown",
   "id": "d1fe475e",
   "metadata": {},
   "source": [
    "## les matrices diagonales\n",
    "\n",
    "On peut créer une matrice diagonale à partir de la liste des éléments de sa diagonale"
   ]
  },
  {
   "cell_type": "code",
   "execution_count": 30,
   "id": "e34cc432",
   "metadata": {},
   "outputs": [
    {
     "data": {
      "text/plain": [
       "array([[1., 0., 0.],\n",
       "       [0., 2., 0.],\n",
       "       [0., 0., 3.]])"
      ]
     },
     "execution_count": 30,
     "metadata": {},
     "output_type": "execute_result"
    }
   ],
   "source": [
    "np.diag([1., 2, 3])"
   ]
  },
  {
   "cell_type": "markdown",
   "id": "91bfcbec",
   "metadata": {},
   "source": [
    "On peut aussi extraire la matrice diagonale d'une matrice."
   ]
  },
  {
   "cell_type": "code",
   "execution_count": 31,
   "id": "b9a2df6a",
   "metadata": {},
   "outputs": [
    {
     "data": {
      "text/plain": [
       "array([[-82,  59,  97],\n",
       "       [ 55, -95,  56],\n",
       "       [ 13, -39,  57]])"
      ]
     },
     "execution_count": 31,
     "metadata": {},
     "output_type": "execute_result"
    }
   ],
   "source": [
    "A = np.random.randint(-100, +100, size=(3, 3))\n",
    "A"
   ]
  },
  {
   "cell_type": "code",
   "execution_count": 32,
   "id": "ef94d30b",
   "metadata": {
    "cell_style": "center"
   },
   "outputs": [
    {
     "data": {
      "text/plain": [
       "array([-82, -95,  57])"
      ]
     },
     "execution_count": 32,
     "metadata": {},
     "output_type": "execute_result"
    }
   ],
   "source": [
    "# returns the diagonal of b\n",
    "np.diag(A) "
   ]
  },
  {
   "cell_type": "code",
   "execution_count": 33,
   "id": "e4048d22",
   "metadata": {
    "cell_style": "split"
   },
   "outputs": [
    {
     "data": {
      "text/plain": [
       "array([[1, 0, 0],\n",
       "       [0, 2, 0],\n",
       "       [0, 0, 3]])"
      ]
     },
     "execution_count": 33,
     "metadata": {},
     "output_type": "execute_result"
    }
   ],
   "source": [
    "# creates a diagonal matrix\n",
    "np.diag([1, 2, 3])"
   ]
  },
  {
   "cell_type": "markdown",
   "id": "cc47dd87",
   "metadata": {},
   "source": [
    "## la trace d'une matrice\n",
    "\n",
    "C'est la somme des éléments de sa diagonale."
   ]
  },
  {
   "cell_type": "code",
   "execution_count": 34,
   "id": "e0b62b42",
   "metadata": {},
   "outputs": [
    {
     "data": {
      "text/plain": [
       "array([[ 0,  1,  2,  3],\n",
       "       [ 4,  5,  6,  7],\n",
       "       [ 8,  9, 10, 11],\n",
       "       [12, 13, 14, 15]])"
      ]
     },
     "execution_count": 34,
     "metadata": {},
     "output_type": "execute_result"
    }
   ],
   "source": [
    "A = np.arange(16).reshape(4, 4)\n",
    "A"
   ]
  },
  {
   "cell_type": "code",
   "execution_count": 35,
   "id": "bfbf54ce",
   "metadata": {
    "cell_style": "split"
   },
   "outputs": [
    {
     "data": {
      "text/plain": [
       "30"
      ]
     },
     "execution_count": 35,
     "metadata": {},
     "output_type": "execute_result"
    }
   ],
   "source": [
    "np.trace(A)"
   ]
  },
  {
   "cell_type": "code",
   "execution_count": 36,
   "id": "45cb589a",
   "metadata": {
    "cell_style": "split"
   },
   "outputs": [
    {
     "data": {
      "text/plain": [
       "30"
      ]
     },
     "execution_count": 36,
     "metadata": {},
     "output_type": "execute_result"
    }
   ],
   "source": [
    "np.sum(np.diag(A))"
   ]
  },
  {
   "cell_type": "markdown",
   "id": "e44d9216",
   "metadata": {},
   "source": [
    "## l'inversion d'une matrice\n",
    "\n",
    "c'est le calcul de $A^{-1}$"
   ]
  },
  {
   "cell_type": "code",
   "execution_count": 37,
   "id": "f533aa46",
   "metadata": {
    "cell_style": "center"
   },
   "outputs": [
    {
     "data": {
      "text/plain": [
       "array([[0, 1, 0],\n",
       "       [0, 0, 1],\n",
       "       [1, 0, 0]])"
      ]
     },
     "execution_count": 37,
     "metadata": {},
     "output_type": "execute_result"
    }
   ],
   "source": [
    "# prenons une rotation\n",
    "R = np.array([0, 1, 0, 0, 0, 1, 1, 0, 0]).reshape(3, 3)\n",
    "R"
   ]
  },
  {
   "cell_type": "code",
   "execution_count": 38,
   "id": "faac77ef",
   "metadata": {},
   "outputs": [
    {
     "data": {
      "text/plain": [
       "array([[0., 0., 1.],\n",
       "       [1., 0., 0.],\n",
       "       [0., 1., 0.]])"
      ]
     },
     "execution_count": 38,
     "metadata": {},
     "output_type": "execute_result"
    }
   ],
   "source": [
    "# pour calculer son inverse\n",
    "np.linalg.inv(R)"
   ]
  },
  {
   "cell_type": "markdown",
   "id": "5ff0ca81",
   "metadata": {},
   "source": [
    "pour nous convaincre que ça fonctionne comme attendu :  \n",
    "lorsqu'en maths on écrit $A^{-1}A = I$, en informatique c'est $A^{-1}A \\approx I$ (presque égal à cause des approximations)  \n",
    "\n",
    "c'est l'intérêt de `np.close` que de comparer si deux tableaux sont presque identiques"
   ]
  },
  {
   "cell_type": "code",
   "execution_count": 39,
   "id": "4ab9a344",
   "metadata": {
    "cell_style": "center"
   },
   "outputs": [
    {
     "data": {
      "text/plain": [
       "array([[0.74888908, 0.21829506, 0.78494135],\n",
       "       [0.37038305, 0.16662601, 0.90668149],\n",
       "       [0.21865492, 0.12902651, 0.37001961]])"
      ]
     },
     "execution_count": 39,
     "metadata": {},
     "output_type": "execute_result"
    }
   ],
   "source": [
    "# on prend maintenant une matrice quelconque\n",
    "n = 3\n",
    "A = np.random.random(size=(n, n))\n",
    "A"
   ]
  },
  {
   "cell_type": "code",
   "execution_count": 40,
   "id": "40c0433c",
   "metadata": {},
   "outputs": [],
   "source": [
    "# son inverse\n",
    "Ainv = np.linalg.inv(A)"
   ]
  },
  {
   "cell_type": "markdown",
   "id": "fe1535cd",
   "metadata": {},
   "source": [
    "Vérifions que leur produit fait bien l'identité"
   ]
  },
  {
   "cell_type": "code",
   "execution_count": 41,
   "id": "dfe92e6b",
   "metadata": {},
   "outputs": [
    {
     "data": {
      "text/plain": [
       "array([[False, False, False],\n",
       "       [False, False, False],\n",
       "       [False, False, False]])"
      ]
     },
     "execution_count": 41,
     "metadata": {},
     "output_type": "execute_result"
    }
   ],
   "source": [
    "np.dot(Ainv, A) == np.eye(n)"
   ]
  },
  {
   "cell_type": "markdown",
   "id": "d5807d73",
   "metadata": {},
   "source": [
    "Et bien oui on a des valeurs approchées."
   ]
  },
  {
   "cell_type": "code",
   "execution_count": 42,
   "id": "30efbfc1",
   "metadata": {},
   "outputs": [
    {
     "data": {
      "text/plain": [
       "array([[ True,  True,  True],\n",
       "       [ True,  True,  True],\n",
       "       [ True,  True,  True]])"
      ]
     },
     "execution_count": 42,
     "metadata": {},
     "output_type": "execute_result"
    }
   ],
   "source": [
    "np.isclose(  Ainv @ A,  np.eye(n))"
   ]
  },
  {
   "cell_type": "markdown",
   "id": "6c5f22d8",
   "metadata": {},
   "source": [
    "## les valeurs propres d'une matrice (eigen values)\n",
    "\n",
    "On va calculer les $v$ tels que:\n",
    "   - $f(v) = \\lambda v$ \n",
    "   - $M \\cdot v = \\lambda v$"
   ]
  },
  {
   "cell_type": "code",
   "execution_count": 43,
   "id": "358db835",
   "metadata": {
    "cell_style": "center"
   },
   "outputs": [
    {
     "data": {
      "text/plain": [
       "array([[0.2850117 , 0.34332719, 0.9855683 ],\n",
       "       [0.89049106, 0.10968501, 0.16301911],\n",
       "       [0.51723741, 0.49578672, 0.0873873 ]])"
      ]
     },
     "execution_count": 43,
     "metadata": {},
     "output_type": "execute_result"
    }
   ],
   "source": [
    "M = np.random.random(size=(3, 3))\n",
    "M"
   ]
  },
  {
   "cell_type": "code",
   "execution_count": 44,
   "id": "000defbd",
   "metadata": {
    "cell_style": "center"
   },
   "outputs": [
    {
     "data": {
      "text/plain": [
       "(array([ 1.31920128+0.j        , -0.41855864+0.31394671j,\n",
       "        -0.41855864-0.31394671j]),\n",
       " array([[ 0.66280856+0.j        ,  0.43285248-0.3321126j ,\n",
       "          0.43285248+0.3321126j ],\n",
       "        [ 0.55563722+0.j        , -0.74731234+0.j        ,\n",
       "         -0.74731234-0.j        ],\n",
       "        [ 0.5019483 +0.j        ,  0.05712049+0.37496862j,\n",
       "          0.05712049-0.37496862j]]))"
      ]
     },
     "execution_count": 44,
     "metadata": {},
     "output_type": "execute_result"
    }
   ],
   "source": [
    "ls, vs = np.linalg.eig(M)  # eigen_values, eigen_vectors\n",
    "ls, vs"
   ]
  },
  {
   "cell_type": "markdown",
   "id": "a52e4f46",
   "metadata": {},
   "source": [
    "Vérifions qu'on a bien $M \\cdot v = \\lambda v$\n",
    "\n",
    "Attention les vecteurs propres sont dans une matrice (3, 3) et chacun d'eux est une des 3 colonnes de la matrice."
   ]
  },
  {
   "cell_type": "code",
   "execution_count": 45,
   "id": "dbf6918f",
   "metadata": {
    "cell_style": "center"
   },
   "outputs": [
    {
     "data": {
      "text/plain": [
       "True"
      ]
     },
     "execution_count": 45,
     "metadata": {},
     "output_type": "execute_result"
    }
   ],
   "source": [
    "# le premier vecteur propre\n",
    "v0 = vs[:, 0] # toutes les lignes et la colonne 0\n",
    "# la première valeur propre\n",
    "l0 = ls[0]\n",
    "np.all(np.isclose(np.dot(M, v0),  l0*v0))"
   ]
  },
  {
   "cell_type": "markdown",
   "id": "c21013db",
   "metadata": {},
   "source": [
    "À vous de jouer, à l'aide d'une boucle for-Python, parcourez les valeurs et les vecteurs propres de $M$ et vérifiez $M \\cdot v = \\lambda v$."
   ]
  },
  {
   "cell_type": "code",
   "execution_count": 46,
   "id": "8ff703e3",
   "metadata": {},
   "outputs": [],
   "source": [
    "# votre code ici"
   ]
  },
  {
   "cell_type": "markdown",
   "id": "8db7e674",
   "metadata": {},
   "source": [
    "Prenons la symétrie x↔︎y et calculons ses valeurs et vecteurs propres."
   ]
  },
  {
   "cell_type": "code",
   "execution_count": 47,
   "id": "ac0e4561",
   "metadata": {},
   "outputs": [
    {
     "name": "stdout",
     "output_type": "stream",
     "text": [
      "[ 1. -1.]\n",
      "[[ 0.70710678 -0.70710678]\n",
      " [ 0.70710678  0.70710678]]\n"
     ]
    }
   ],
   "source": [
    "S = np.array([[0, 1], [1, 0]])\n",
    "values, vectors = np.linalg.eig(S)\n",
    "\n",
    "print(values)\n",
    "\n",
    "# les vecteurs sont normés, naturellement\n",
    "print(vectors)"
   ]
  },
  {
   "cell_type": "markdown",
   "id": "5224524d",
   "metadata": {},
   "source": [
    "## résolution d'un système linéaire\n",
    "\n",
    "On va trouver les racines du système linéaire $A \\cdot x = b$\n",
    "\n",
    "Prenons une matrice $A$."
   ]
  },
  {
   "cell_type": "code",
   "execution_count": 48,
   "id": "d3dbff77",
   "metadata": {},
   "outputs": [
    {
     "data": {
      "text/plain": [
       "array([[0.83955708, 0.05954924, 0.12420057],\n",
       "       [0.44674119, 0.96525272, 0.83231312],\n",
       "       [0.2034883 , 0.85556744, 0.73852452]])"
      ]
     },
     "execution_count": 48,
     "metadata": {},
     "output_type": "execute_result"
    }
   ],
   "source": [
    "A = np.random.random(size=(3, 3))\n",
    "A"
   ]
  },
  {
   "cell_type": "markdown",
   "id": "ee05fa49",
   "metadata": {},
   "source": [
    "Prenons un vecteur $b$."
   ]
  },
  {
   "cell_type": "code",
   "execution_count": 49,
   "id": "e463e761",
   "metadata": {},
   "outputs": [],
   "source": [
    "b = np.array([1, 2, 3])"
   ]
  },
  {
   "cell_type": "markdown",
   "id": "cce5cf57",
   "metadata": {},
   "source": [
    "Calculons la racine de l'équation $A \\cdot x = b$"
   ]
  },
  {
   "cell_type": "code",
   "execution_count": 50,
   "id": "812880d8",
   "metadata": {},
   "outputs": [],
   "source": [
    "np.linalg.solve?"
   ]
  },
  {
   "cell_type": "code",
   "execution_count": 51,
   "id": "7f36164f",
   "metadata": {},
   "outputs": [
    {
     "data": {
      "text/plain": [
       "array([ -6.04959087, -63.64422492,  79.45971427])"
      ]
     },
     "execution_count": 51,
     "metadata": {},
     "output_type": "execute_result"
    }
   ],
   "source": [
    "x = np.linalg.solve(A, b)\n",
    "x"
   ]
  },
  {
   "cell_type": "code",
   "execution_count": 52,
   "id": "d15ce9b5",
   "metadata": {},
   "outputs": [
    {
     "data": {
      "text/plain": [
       "True"
      ]
     },
     "execution_count": 52,
     "metadata": {},
     "output_type": "execute_result"
    }
   ],
   "source": [
    "np.all( np.isclose( np.dot(A, x), b) )"
   ]
  },
  {
   "cell_type": "markdown",
   "id": "e27dea6c",
   "metadata": {},
   "source": [
    "Si la matrice n'est pas inversible ou si elle n'est pas carrée, une erreur `np.linalg.LinAlgError` sera levée\n",
    "\n",
    "## les fonctions dont nous avons parlé (rapidement)\n",
    "\n",
    "| fonctions           |   comportement |\n",
    "|-----------------|--------|\n",
    "| `np.dot` | produit de matrice |\n",
    "| `np.linalg.norm` | normes de matrice |\n",
    "| `np.transpose` | transposition de matrice |\n",
    "| `np.linalg.det` | déterminant |\n",
    "| `np.linalg.inv` | inversion |\n",
    "| `np.linalg.eig` | valeurs propres |\n",
    "| `np.linalg.solve` | résolution de système linéaire |\n",
    "| `np.eye`       |matrice identité  |\n",
    "| `np.diag`      | matrice diagonale|"
   ]
  },
  {
   "cell_type": "markdown",
   "id": "e987ff65",
   "metadata": {},
   "source": [
    "Les exercices intéressants seront faits dans l'UE11."
   ]
  },
  {
   "cell_type": "markdown",
   "id": "9a1620ba",
   "metadata": {
    "tags": [
     "level_advanced"
    ]
   },
   "source": [
    "## exercices"
   ]
  },
  {
   "cell_type": "markdown",
   "id": "b7f0cdff",
   "metadata": {
    "tags": [
     "level_advanced"
    ]
   },
   "source": [
    "### construire une matrice diagonale à-la-main (peu d'intérêt)"
   ]
  },
  {
   "cell_type": "markdown",
   "id": "a7529b2a",
   "metadata": {
    "tags": [
     "level_advanced"
    ]
   },
   "source": [
    "On vous demande d'écrire une fonction `matdiag` qui \n",
    "\n",
    "1. accepte un paramètre qui est une liste de flottants [$x_1$, $x_2$, …, $x_n$] \n",
    "1. retourne une matrice carrée diagonale dont les éléments valent\n",
    "\n",
    "$$\n",
    "m_{ii} = x_i \n",
    "$$\n",
    "$$\n",
    "m_{ij} = 0 \\ pour\\  i ≠ j\n",
    "$$\n",
    "* Retournez toujours un tableau de type `float64`\n",
    "* Programmez une approche naïve et une approche à base de slicing.\n",
    "\n",
    "https://nbhosting.inria.fr/auditor/notebook/python-mooc:exos/w7/w7-s05-x5-matdiag"
   ]
  },
  {
   "cell_type": "markdown",
   "id": "c7a91945",
   "metadata": {
    "tags": [
     "level_advanced"
    ]
   },
   "source": [
    "### remplir une matrice : m(i, j) = xi * xj"
   ]
  },
  {
   "cell_type": "markdown",
   "id": "e132f706",
   "metadata": {
    "tags": [
     "level_advanced"
    ]
   },
   "source": [
    "On vous demande d'écrire une fonction qui \n",
    "\n",
    "1. accepte un nombre quelconque de paramètres, $x_1$, $x_2$, ..., $x_n$, tous des flottants\n",
    "1. retourne une matrice carrée symétrique $M$ dont les termes valent\n",
    "\n",
    "$$\n",
    "m_{ij} = x_i . x_j\n",
    "$$\n",
    "\n",
    "Indices. Vous pouvez utiliser l'opérateur `@`, la méthode `array.dot()`, le broadcasting, la transposée d'une matrice `.T`.\n",
    "\n",
    "https://nbhosting.inria.fr/auditor/notebook/python-mooc:exos/w7/w7-s05-x6-xixj"
   ]
  }
 ],
 "metadata": {
  "jupytext": {
   "cell_metadata_filter": "all,-hidden,-heading_collapsed",
   "cell_metadata_json": true,
   "notebook_metadata_filter": "all,-language_info,-toc,-jupytext.text_representation.jupytext_version,-jupytext.text_representation.format_version",
   "text_representation": {
    "extension": ".md",
    "format_name": "myst"
   }
  },
  "kernelspec": {
   "display_name": "Python 3",
   "language": "python",
   "name": "python3"
  },
  "language_info": {
   "codemirror_mode": {
    "name": "ipython",
    "version": 3
   },
   "file_extension": ".py",
   "mimetype": "text/x-python",
   "name": "python",
   "nbconvert_exporter": "python",
   "pygments_lexer": "ipython3",
   "version": "3.9.5"
  },
  "notebookname": "algèbre linéaire",
  "source_map": [
   14,
   23,
   25,
   29,
   35,
   44,
   46,
   50,
   54,
   58,
   64,
   68,
   72,
   76,
   79,
   83,
   87,
   91,
   94,
   98,
   102,
   104,
   108,
   110,
   114,
   118,
   122,
   126,
   133,
   138,
   142,
   146,
   150,
   155,
   161,
   165,
   171,
   175,
   179,
   185,
   189,
   193,
   198,
   203,
   207,
   211,
   215,
   222,
   227,
   231,
   235,
   239,
   244,
   250,
   254,
   258,
   262,
   265,
   271,
   276,
   278,
   282,
   290,
   294,
   298,
   304,
   309,
   315,
   317,
   321,
   326,
   333,
   338,
   344,
   349,
   355,
   359,
   365,
   373,
   376,
   383,
   392,
   395,
   399,
   401,
   405,
   407,
   415,
   422,
   427,
   433,
   441,
   445,
   447,
   451,
   459,
   467,
   470,
   474,
   476,
   480,
   484,
   489,
   491,
   509,
   513,
   517,
   521,
   539,
   543
  ]
 },
 "nbformat": 4,
 "nbformat_minor": 5
}