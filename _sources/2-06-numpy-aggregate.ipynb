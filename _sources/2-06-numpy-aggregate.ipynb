{
 "cells": [
  {
   "cell_type": "markdown",
   "id": "602c22eb",
   "metadata": {},
   "source": [
    "<div class=\"licence\">\n",
    "<span>Licence CC BY-NC-ND</span>\n",
    "<span>Valérie Roy</span>\n",
    "</div>\n",
    "\n",
    "<img src=\"media/ensmp-25-alpha.png\" />"
   ]
  },
  {
   "cell_type": "markdown",
   "id": "33f5ff10",
   "metadata": {
    "tags": []
   },
   "source": [
    "# agrégation\n",
    "\n",
    "ou comment combiner les données dans un tableau, selon certains axes"
   ]
  },
  {
   "cell_type": "code",
   "execution_count": 1,
   "id": "6918ebca",
   "metadata": {
    "tags": []
   },
   "outputs": [],
   "source": [
    "import numpy as np"
   ]
  },
  {
   "cell_type": "markdown",
   "id": "c7d62620",
   "metadata": {},
   "source": [
    "Nous venons de voir des opérations `numpy` qui s'appliquent élément par élément. Nous avons ausi abordé la vectorisation et le broadcasting.\n",
    "\n",
    "Il existe en `numpy` des fonctions qui travaillent sur tous les éléments le long d'un axe. Par exemple: la somme des lignes, le maximum des colonnes, le maximum global du tableau..."
   ]
  },
  {
   "cell_type": "markdown",
   "id": "e6f69101",
   "metadata": {},
   "source": [
    "On va appeler cela l'agrégation de valeurs d'un tableau"
   ]
  },
  {
   "cell_type": "markdown",
   "id": "843c0b52",
   "metadata": {},
   "source": [
    "## agrégation en dimension 1"
   ]
  },
  {
   "cell_type": "markdown",
   "id": "370cdc5a",
   "metadata": {},
   "source": [
    "En dimension 1, il n'y a qu'un axe, tous les éléments du tableau sont sur le même axe. \n",
    "Donc cela va rester très simple: il suffira d'appliquer la fonction d'agrégation désirée au tableau, en laissant `numpy` déduire l'axe sur lequel l'appliquer ... y'en a qu'un !"
   ]
  },
  {
   "cell_type": "code",
   "execution_count": 2,
   "id": "b99c9421",
   "metadata": {},
   "outputs": [
    {
     "data": {
      "text/plain": [
       "array([ 10,  20,  30,  40,  50,  60,  70,  80,  90, 100, 110, 120, 130,\n",
       "       140])"
      ]
     },
     "execution_count": 2,
     "metadata": {},
     "output_type": "execute_result"
    }
   ],
   "source": [
    "vec = np.array([10,  20,  30,  40,  50,  60,  70,  80,  90, 100, 110, 120, 130, 140])\n",
    "vec"
   ]
  },
  {
   "cell_type": "markdown",
   "id": "658ef90b",
   "metadata": {},
   "source": [
    "### sommons tous les éléments"
   ]
  },
  {
   "cell_type": "markdown",
   "id": "be5d3abe",
   "metadata": {},
   "source": [
    "Deux manières identiques de faire : on appelle la **fonction** globale `np.sum` ou on appelle la **méthode** des tableaux `np.ndarray.sum`."
   ]
  },
  {
   "cell_type": "code",
   "execution_count": 3,
   "id": "790bd995",
   "metadata": {
    "cell_style": "split"
   },
   "outputs": [
    {
     "data": {
      "text/plain": [
       "1050"
      ]
     },
     "execution_count": 3,
     "metadata": {},
     "output_type": "execute_result"
    }
   ],
   "source": [
    "# qu'on utilise une fonction ...\n",
    "np.sum(vec)"
   ]
  },
  {
   "cell_type": "code",
   "execution_count": 4,
   "id": "3220741a",
   "metadata": {
    "cell_style": "split"
   },
   "outputs": [
    {
     "data": {
      "text/plain": [
       "1050"
      ]
     },
     "execution_count": 4,
     "metadata": {},
     "output_type": "execute_result"
    }
   ],
   "source": [
    "# ... ou une méthode\n",
    "# le résultat est le même\n",
    "vec.sum()"
   ]
  },
  {
   "cell_type": "markdown",
   "id": "8bb8fa26",
   "metadata": {},
   "source": [
    "La seule chose à remarquer ici est que `sum` renvoie la valeur calculée. Rien que de très normal."
   ]
  },
  {
   "cell_type": "markdown",
   "id": "f1b8b8fd",
   "metadata": {},
   "source": [
    "Et aucun \"*piège*\". Afin de ne pas retourner une somme fausse, le type de la variable retournée sera:\n",
    "   - celui des éléments votre tableau sauf si ...\n",
    "   - sauf si la *version* demandée pour ce type (`int8`) le rend *plus petit* que le type qu'utilise votre ordinateur (`int64`).\n",
    "\n",
    "Essayons:"
   ]
  },
  {
   "cell_type": "code",
   "execution_count": 5,
   "id": "2d991a0b",
   "metadata": {},
   "outputs": [
    {
     "data": {
      "text/plain": [
       "numpy.uint64"
      ]
     },
     "execution_count": 5,
     "metadata": {},
     "output_type": "execute_result"
    }
   ],
   "source": [
    "vec = np.array([10,  20,  30, ], dtype=np.uint8)\n",
    "s = np.sum(vec)\n",
    "(type(s))"
   ]
  },
  {
   "cell_type": "markdown",
   "id": "b148dcbf",
   "metadata": {},
   "source": [
    "Bingo. Il passe en `np.int64` ! Et ce quelle que soit la valeur du résultat. Même si la somme est tout à fait stockable sur 8 bits puisqu'elle vaut .. combien ? oui, 60."
   ]
  },
  {
   "cell_type": "markdown",
   "id": "2493f9d3",
   "metadata": {},
   "source": [
    "C'est bien normal une somme d'éléments d'un type *peut* ne pas pouvoir tenir sur une variable de ce même type. Dans le premier exemple, la somme vaut *1050* qui ne peut pas être stocké sur un entier non signé de 8 bits ... (oui parce que le maximum est ? et bien calculons: $11111111 = 2^8 -1$ en décimal soit 255)."
   ]
  },
  {
   "cell_type": "markdown",
   "id": "c6941660",
   "metadata": {},
   "source": [
    "### calculons le minimum d'un vecteur"
   ]
  },
  {
   "cell_type": "markdown",
   "id": "c2aacc92",
   "metadata": {},
   "source": [
    "Prenons un tableau de dimension 1, de 15 entiers sur 8 bits, aléatoirement générés entre 1 et 100."
   ]
  },
  {
   "cell_type": "code",
   "execution_count": 6,
   "id": "3d0deedf",
   "metadata": {},
   "outputs": [
    {
     "data": {
      "text/plain": [
       "array([43, 53, 38, 56, 15, 56, 68,  6, 22, 91, 15, 88, 29, 59, 46],\n",
       "      dtype=int8)"
      ]
     },
     "execution_count": 6,
     "metadata": {},
     "output_type": "execute_result"
    }
   ],
   "source": [
    "ran = np.random.randint(0, 100, 15,  dtype=np.int8)\n",
    "ran"
   ]
  },
  {
   "cell_type": "markdown",
   "id": "67c12f2f",
   "metadata": {},
   "source": [
    "Deux manières identiques de faire: on appelle la fonction globale `np.min` on appelle la méthode des tableaux `np.ndarray.min`. Vous avez compris l'idée générale..."
   ]
  },
  {
   "cell_type": "code",
   "execution_count": 7,
   "id": "322d99f4",
   "metadata": {
    "cell_style": "split"
   },
   "outputs": [
    {
     "data": {
      "text/plain": [
       "6"
      ]
     },
     "execution_count": 7,
     "metadata": {},
     "output_type": "execute_result"
    }
   ],
   "source": [
    "np.min(ran)"
   ]
  },
  {
   "cell_type": "code",
   "execution_count": 8,
   "id": "42b35d23",
   "metadata": {
    "cell_style": "split"
   },
   "outputs": [
    {
     "data": {
      "text/plain": [
       "6"
      ]
     },
     "execution_count": 8,
     "metadata": {},
     "output_type": "execute_result"
    }
   ],
   "source": [
    "ran.min()"
   ]
  },
  {
   "cell_type": "code",
   "execution_count": 9,
   "id": "a1602554",
   "metadata": {},
   "outputs": [
    {
     "data": {
      "text/plain": [
       "numpy.int8"
      ]
     },
     "execution_count": 9,
     "metadata": {},
     "output_type": "execute_result"
    }
   ],
   "source": [
    "type(ran.min()) # notez qu'il conserve le type des éléments"
   ]
  },
  {
   "cell_type": "markdown",
   "id": "460a6eb4",
   "metadata": {},
   "source": [
    "Oui là le type que vous avez demandé pour vos éléments suffit ! puisque votre minimum appartient à votre tableau, c'est bien que `numpy` est arrivé à la stocker dans une variable du type que vous avez indiqué."
   ]
  },
  {
   "cell_type": "markdown",
   "id": "bfd6ea70",
   "metadata": {},
   "source": [
    "De même que vous allez pouvoir calculer le minimum ou le maximum vous allez pouvoir aussi accéder à l'indice du minimum (ou du maximum) dans votre tableau."
   ]
  },
  {
   "cell_type": "code",
   "execution_count": 10,
   "id": "2a3b7e92",
   "metadata": {},
   "outputs": [
    {
     "data": {
      "text/plain": [
       "7"
      ]
     },
     "execution_count": 10,
     "metadata": {},
     "output_type": "execute_result"
    }
   ],
   "source": [
    "np.argmin(ran)"
   ]
  },
  {
   "cell_type": "markdown",
   "id": "59d07043",
   "metadata": {},
   "source": [
    "Et on accède à l'élément"
   ]
  },
  {
   "cell_type": "code",
   "execution_count": 11,
   "id": "04fa35ed",
   "metadata": {},
   "outputs": [
    {
     "data": {
      "text/plain": [
       "6"
      ]
     },
     "execution_count": 11,
     "metadata": {},
     "output_type": "execute_result"
    }
   ],
   "source": [
    "# on retrouve bien le minimum\n",
    "ran[ np.argmin(ran) ]"
   ]
  },
  {
   "cell_type": "markdown",
   "id": "19371a27",
   "metadata": {},
   "source": [
    "Oui bien sûr c'est identique à aller directement chercher le min, mais parfois c'est utile de connaitre à quel indice se situe ce minimum..."
   ]
  },
  {
   "cell_type": "markdown",
   "id": "61fb71d4",
   "metadata": {},
   "source": [
    "### testons les valeurs sur tout un vecteur (`all` et `any`)"
   ]
  },
  {
   "cell_type": "markdown",
   "id": "dce3b40e",
   "metadata": {},
   "source": [
    "Travaillons maintenant sur un tableau de booléens.\n",
    "\n",
    "Comment savoir si tous les éléments de votre tableau sont vrais (sont à True) ? Ou si l'un au moins, d'entre eux, est à vrai ?\n",
    "\n",
    "Première idée ... on peut en faire la somme (True sera pris comme 1) et regarder si la somme est égale au nombre d'éléments de votre tableau (dans le permier cas) et strictement supérieure à 0 dans le second cas ... vous vous voyez faire cela à chaque fois que vous allez vouloir appliquer ce genre de tests ? heu non pas trop.\n",
    "\n",
    "`numpy` vous donne des fonctions pour cela, la première s'appelle `all`  et la seconde `any`; et comme tout à l'heure vous avez les deux versions (la fonction globale de `numpy` et la méthode des `ndarray`)."
   ]
  },
  {
   "cell_type": "markdown",
   "id": "83060537",
   "metadata": {},
   "source": [
    "Pour créer un tableau de 10 booléens (par exemple)\n",
    "\n",
    "* je génère 10 entiers aléatoirement entre 0 et 2 (non compris)\n",
    "* et je type ce tableau comme étant de type `np.bool` avec la méthode `np.ndarray.astype` \n",
    "\n",
    "vous vous souvenez de `astype` ? nous l'avons vu rapidement dans le tout premier notebook d'introduction à `numpy`"
   ]
  },
  {
   "cell_type": "code",
   "execution_count": 12,
   "id": "2529a75f",
   "metadata": {},
   "outputs": [
    {
     "name": "stderr",
     "output_type": "stream",
     "text": [
      "/tmp/ipykernel_2093/3034222896.py:1: DeprecationWarning: `np.bool` is a deprecated alias for the builtin `bool`. To silence this warning, use `bool` by itself. Doing this will not modify any behavior and is safe. If you specifically wanted the numpy scalar type, use `np.bool_` here.\n",
      "Deprecated in NumPy 1.20; for more details and guidance: https://numpy.org/devdocs/release/1.20.0-notes.html#deprecations\n",
      "  boo = np.random.randint(0, 2, 10).astype(np.bool)\n"
     ]
    },
    {
     "data": {
      "text/plain": [
       "array([False,  True,  True,  True, False,  True, False, False, False,\n",
       "        True])"
      ]
     },
     "execution_count": 12,
     "metadata": {},
     "output_type": "execute_result"
    }
   ],
   "source": [
    "boo = np.random.randint(0, 2, 10).astype(np.bool)\n",
    "boo"
   ]
  },
  {
   "cell_type": "markdown",
   "id": "16267957",
   "metadata": {},
   "source": [
    "Voici le tableau, en dimension 1, `boo` de 10 booléens. Regardons si ils tous vrais ?"
   ]
  },
  {
   "cell_type": "code",
   "execution_count": 13,
   "id": "884a7359",
   "metadata": {
    "cell_style": "split"
   },
   "outputs": [
    {
     "data": {
      "text/plain": [
       "False"
      ]
     },
     "execution_count": 13,
     "metadata": {},
     "output_type": "execute_result"
    }
   ],
   "source": [
    "# la fonction ..\n",
    "np.all(boo)"
   ]
  },
  {
   "cell_type": "code",
   "execution_count": 14,
   "id": "2ff40985",
   "metadata": {
    "cell_style": "split"
   },
   "outputs": [
    {
     "data": {
      "text/plain": [
       "False"
      ]
     },
     "execution_count": 14,
     "metadata": {},
     "output_type": "execute_result"
    }
   ],
   "source": [
    "# .. ou la méthode\n",
    "# les deux font la même chose\n",
    "boo.all()"
   ]
  },
  {
   "cell_type": "markdown",
   "id": "32b26e8b",
   "metadata": {},
   "source": [
    "Y-en-a-t-il au moins un à `True` ?"
   ]
  },
  {
   "cell_type": "code",
   "execution_count": 15,
   "id": "04aa1e96",
   "metadata": {
    "cell_style": "split"
   },
   "outputs": [
    {
     "data": {
      "text/plain": [
       "True"
      ]
     },
     "execution_count": 15,
     "metadata": {},
     "output_type": "execute_result"
    }
   ],
   "source": [
    "np.any(boo)"
   ]
  },
  {
   "cell_type": "code",
   "execution_count": 16,
   "id": "7ab81601",
   "metadata": {
    "cell_style": "split"
   },
   "outputs": [
    {
     "data": {
      "text/plain": [
       "True"
      ]
     },
     "execution_count": 16,
     "metadata": {},
     "output_type": "execute_result"
    }
   ],
   "source": [
    "boo.any()"
   ]
  },
  {
   "cell_type": "markdown",
   "id": "faf33aaa",
   "metadata": {},
   "source": [
    "Bien sûr `any` ne s'applique pas qu'à des tableaux booléens ! Il va indiquer les valeurs non nulles d'un tableau."
   ]
  },
  {
   "cell_type": "code",
   "execution_count": 17,
   "id": "709c5949",
   "metadata": {},
   "outputs": [
    {
     "data": {
      "text/plain": [
       "True"
      ]
     },
     "execution_count": 17,
     "metadata": {},
     "output_type": "execute_result"
    }
   ],
   "source": [
    "# ici comme on a changé l'intervalle,\n",
    "# toutes les valeurs sont non-nulles\n",
    "np.all(np.random.randint(1, 3, 10))"
   ]
  },
  {
   "cell_type": "markdown",
   "id": "8cde6471",
   "metadata": {},
   "source": [
    "## exemples de fonctions d'agrégation\n",
    "\n",
    "| fonction | comportement|\n",
    "|------|-----|\n",
    "| `np.sum` | somme les éléments sur un axe|\n",
    "| `np.min` | retourne le plus petit élément|\n",
    "| `np.max` | retourne le plus grand|\n",
    "| `np.argmin` | retourne l'indice du plus petit élément|\n",
    "| `np.argmax` | retourne l'indice du plus grand élément|\n",
    "| `np.mean`| calcule la moyenne des éléments|\n",
    "| `np.std`  | calcule l'écart type des éléments |\n",
    "| `np.var`  | calcule la variance des éléments |\n",
    "| `np.all`  | vrai si aucun élément n'est nul |\n",
    "| `np.any`  | vrai si au moins un élément n'est pas nul |\n",
    "| `np.where`  | une condition ternaire |\n",
    "| .../...| .../... |"
   ]
  },
  {
   "cell_type": "markdown",
   "id": "c923c51b",
   "metadata": {},
   "source": [
    "## agrégation en dimension 2\n",
    "\n",
    "Effectivement en `numpy` les tableaux peuvent avoir des dimensions supérieures à 1 comme des matrices avec une seule ligne, des matrices avec une seule colonne, des matrices, des paquets de matrices, des groupes de paquets de matrices..."
   ]
  },
  {
   "cell_type": "markdown",
   "id": "ad3b6a1b",
   "metadata": {},
   "source": [
    "### sommons en dimension 2"
   ]
  },
  {
   "cell_type": "markdown",
   "id": "99fdd974",
   "metadata": {},
   "source": [
    "Voici une petite matrice de 3 lignes et 5 colonnes contenant les entiers de 0 à 15."
   ]
  },
  {
   "cell_type": "code",
   "execution_count": 18,
   "id": "f432edba",
   "metadata": {},
   "outputs": [
    {
     "data": {
      "text/plain": [
       "array([[ 0,  1,  2,  3,  4],\n",
       "       [ 5,  6,  7,  8,  9],\n",
       "       [10, 11, 12, 13, 14]])"
      ]
     },
     "execution_count": 18,
     "metadata": {},
     "output_type": "execute_result"
    }
   ],
   "source": [
    "mat = np.arange(15).reshape(3, 5)\n",
    "mat"
   ]
  },
  {
   "cell_type": "markdown",
   "id": "a608cf91",
   "metadata": {},
   "source": [
    "Nous sommes en dimension 2, nous avons 2 axes, celui des lignes et celui des colonnes qui auront respectivement l'indice 0 et l'indice 1 (comme les dimensions apparaissent dans `shape`).\n",
    "\n",
    "Pour spécifier l'axe sur lequel on veut faire une opération, il faut passer l'argument `axis=0` ou `axis=1` à `np.sum` ou `np.ndarray.sum`.\n",
    "\n",
    "Allons-y ! Demondons à `mat` de sommer ses valeurs sur l'axe `0` des lignes."
   ]
  },
  {
   "cell_type": "code",
   "execution_count": 19,
   "id": "015e9636",
   "metadata": {},
   "outputs": [
    {
     "data": {
      "text/plain": [
       "array([15, 18, 21, 24, 27])"
      ]
     },
     "execution_count": 19,
     "metadata": {},
     "output_type": "execute_result"
    }
   ],
   "source": [
    "mat.sum(axis=0)"
   ]
  },
  {
   "cell_type": "markdown",
   "id": "07c8982a",
   "metadata": {},
   "source": [
    "Il somme bien suivant l'axe des lignes (vous avez 3 lignes, il les somme entre elles) donc vous obtenez la somme de chacune des colonnes ... oui peut être un peu contre-intuitif mais c'est bien cela qui se passe.\n",
    "\n",
    "Si je demande de sommer sur l'axe des colonnes, il va créer un tableau avec la somme de chaque ligne."
   ]
  },
  {
   "cell_type": "code",
   "execution_count": 20,
   "id": "f6d9047e",
   "metadata": {},
   "outputs": [
    {
     "data": {
      "text/plain": [
       "array([10, 35, 60])"
      ]
     },
     "execution_count": 20,
     "metadata": {},
     "output_type": "execute_result"
    }
   ],
   "source": [
    "mat.sum(axis=1)"
   ]
  },
  {
   "cell_type": "markdown",
   "id": "9fb24d70",
   "metadata": {},
   "source": [
    "Et si vous n'indiquer pas d'axe ? Et bien il va sommer tous les éléments entre eux !"
   ]
  },
  {
   "cell_type": "code",
   "execution_count": 21,
   "id": "32e06bd6",
   "metadata": {},
   "outputs": [
    {
     "data": {
      "text/plain": [
       "105"
      ]
     },
     "execution_count": 21,
     "metadata": {},
     "output_type": "execute_result"
    }
   ],
   "source": [
    "mat.sum()"
   ]
  },
  {
   "cell_type": "markdown",
   "id": "eac4c0ae",
   "metadata": {},
   "source": [
    "Comme nous l'avons dit dans la section sur la dimension 1. Le type du résultat des sommes d'entier sera le type des entiers de votre ordi. (pour le mien 64 bits) ou celui qui a été indiqué pour votre tableau si il est plus grand donc a plus de précision). Mais les entiers sur 64 bits sont le plus grand type entier proposé par `numpy`.\n",
    "\n",
    "Pour les flottants pareil avec des flottants sur 64 bits."
   ]
  },
  {
   "cell_type": "markdown",
   "id": "9cf1deb3",
   "metadata": {},
   "source": [
    "### calculons les min et max"
   ]
  },
  {
   "cell_type": "markdown",
   "id": "d7f0720c",
   "metadata": {},
   "source": [
    "Maintenant regardons le minimum et le maximum globaux d'une matrice, ceux de l'axe des lignes et ceux de l'axe des colonnes et l'indice de ces valeurs dans la matrice.\n",
    "\n",
    "Prenons une matrice de taille 3 x 5 d'entiers de 1 à 15."
   ]
  },
  {
   "cell_type": "code",
   "execution_count": 22,
   "id": "346b0a8b",
   "metadata": {},
   "outputs": [
    {
     "data": {
      "text/plain": [
       "array([[ 1,  2,  3,  4,  5],\n",
       "       [ 6,  7,  8,  9, 10],\n",
       "       [11, 12, 13, 14, 15]])"
      ]
     },
     "execution_count": 22,
     "metadata": {},
     "output_type": "execute_result"
    }
   ],
   "source": [
    "al = np.arange(1, 16).reshape(3, 5) # 15 éléments\n",
    "al"
   ]
  },
  {
   "cell_type": "markdown",
   "id": "5db093d7",
   "metadata": {},
   "source": [
    "Le maximum global."
   ]
  },
  {
   "cell_type": "code",
   "execution_count": 23,
   "id": "afa48014",
   "metadata": {},
   "outputs": [
    {
     "data": {
      "text/plain": [
       "15"
      ]
     },
     "execution_count": 23,
     "metadata": {},
     "output_type": "execute_result"
    }
   ],
   "source": [
    "al.max() # oui bien sûr 15"
   ]
  },
  {
   "cell_type": "markdown",
   "id": "42f6a5bf",
   "metadata": {},
   "source": [
    "Son indice:"
   ]
  },
  {
   "cell_type": "code",
   "execution_count": 24,
   "id": "79fa75a5",
   "metadata": {},
   "outputs": [
    {
     "data": {
      "text/plain": [
       "14"
      ]
     },
     "execution_count": 24,
     "metadata": {},
     "output_type": "execute_result"
    }
   ],
   "source": [
    "al.argmax()"
   ]
  },
  {
   "cell_type": "markdown",
   "id": "3c343551",
   "metadata": {},
   "source": [
    "Ah mince 14 ? il me donne bien l'indice mais de manière *absolue* pas l'indice relatif aux lignes et aux colonnes de la matrice ! \n",
    "\n",
    "Si vous lisez le *help*, on vous dit que la fonction *retourne les indices des valeurs maximales le long d'un axe*. Là il n'y a pas d'axe indiqué, le maximum est donc retourné de manière absolue puisque c'est bien le maximum absolu que vous demandez. \n",
    "\n",
    "Comment faire pour accéder à l'élément à cette position ?\n",
    "\n",
    "Il faut surtout éviter les opérations qui prendraient du temps et de l'espace, comme celles qui recopieraient le tableau (comme le fait la fonction `np.ndarray.flatten`, lisez son help).\n",
    "\n",
    "Vous allez utiliser la fonction **dédiée** `np.unravel_index` qui re-calcule les index dans chacune des dimensions à partir de l'indice absolu et de la forme du tableau.\n",
    "\n",
    "On le fait:"
   ]
  },
  {
   "cell_type": "code",
   "execution_count": 25,
   "id": "d39dd38e",
   "metadata": {},
   "outputs": [],
   "source": [
    "#np.unravel_index?"
   ]
  },
  {
   "cell_type": "code",
   "execution_count": 26,
   "id": "26535deb",
   "metadata": {},
   "outputs": [
    {
     "name": "stdout",
     "output_type": "stream",
     "text": [
      "(2, 4)\n"
     ]
    }
   ],
   "source": [
    "indices = np.unravel_index(al.argmax(), al.shape)\n",
    "print(indices)"
   ]
  },
  {
   "cell_type": "markdown",
   "id": "802249d3",
   "metadata": {},
   "source": [
    "Notre max est bien à l'indice (2, 4) soit la case de la matrice à la troisième ligne cinquième colonne. On accède à l'élément."
   ]
  },
  {
   "cell_type": "code",
   "execution_count": 27,
   "id": "75c24787",
   "metadata": {},
   "outputs": [
    {
     "data": {
      "text/plain": [
       "15"
      ]
     },
     "execution_count": 27,
     "metadata": {},
     "output_type": "execute_result"
    }
   ],
   "source": [
    "al[indices]"
   ]
  },
  {
   "cell_type": "markdown",
   "id": "fcaaace9",
   "metadata": {
    "tags": [
     "level_advanced"
    ]
   },
   "source": [
    "Pour les avancés, sauriez-vous reprogrammer la fonction `np.unravel_index` à partir d'un indice *absolu* et de la forme d'un tableau ?"
   ]
  },
  {
   "cell_type": "code",
   "execution_count": 28,
   "id": "f96a1acd",
   "metadata": {
    "tags": [
     "level_advanced"
    ]
   },
   "outputs": [],
   "source": [
    "# votre code ici"
   ]
  },
  {
   "cell_type": "markdown",
   "id": "8a2d2d17",
   "metadata": {},
   "source": [
    "Passons aux calculs sur les axes. Calculons les minimums sur l'axe des lignes."
   ]
  },
  {
   "cell_type": "code",
   "execution_count": 29,
   "id": "cb2e5017",
   "metadata": {},
   "outputs": [
    {
     "data": {
      "text/plain": [
       "array([1, 2, 3, 4, 5])"
      ]
     },
     "execution_count": 29,
     "metadata": {},
     "output_type": "execute_result"
    }
   ],
   "source": [
    "np.min(al, axis=0)"
   ]
  },
  {
   "cell_type": "markdown",
   "id": "921e6ee1",
   "metadata": {},
   "source": [
    "Là vous demandez les minimums dans l'axe des lignes donc vous calculez le minimum de chacune des colonnes."
   ]
  },
  {
   "cell_type": "markdown",
   "id": "c4ab1262",
   "metadata": {},
   "source": [
    "Regardons les indices des minimums sur l'axe des lignes ?"
   ]
  },
  {
   "cell_type": "markdown",
   "id": "8f09ec2c",
   "metadata": {},
   "source": [
    "Il vous donne, pour chaque colonne, l'indice de la ligne où vous allez trouver le minimum."
   ]
  },
  {
   "cell_type": "code",
   "execution_count": 30,
   "id": "1097b8a7",
   "metadata": {},
   "outputs": [
    {
     "data": {
      "text/plain": [
       "array([[ 1,  2,  3,  4,  5],\n",
       "       [ 6,  7,  8,  9, 10],\n",
       "       [11, 12, 13, 14, 15]])"
      ]
     },
     "execution_count": 30,
     "metadata": {},
     "output_type": "execute_result"
    }
   ],
   "source": [
    "al"
   ]
  },
  {
   "cell_type": "code",
   "execution_count": 31,
   "id": "9d98b388",
   "metadata": {},
   "outputs": [
    {
     "data": {
      "text/plain": [
       "array([0, 0, 0, 0, 0])"
      ]
     },
     "execution_count": 31,
     "metadata": {},
     "output_type": "execute_result"
    }
   ],
   "source": [
    "al.argmin(axis=0)"
   ]
  },
  {
   "cell_type": "markdown",
   "id": "49d741ad",
   "metadata": {},
   "source": [
    " Pour accéder aux éléments ? Comme on peut indicer une matrice par un tuple, vous avez la première partie du tuple (les indices des lignes), il vous reste à donner la liste des indices des colonnes (toutes les colonnes auront un min)."
   ]
  },
  {
   "cell_type": "code",
   "execution_count": 32,
   "id": "e6d4307a",
   "metadata": {},
   "outputs": [
    {
     "data": {
      "text/plain": [
       "array([1, 2, 3, 4, 5])"
      ]
     },
     "execution_count": 32,
     "metadata": {},
     "output_type": "execute_result"
    }
   ],
   "source": [
    "al[al.argmin(axis=0), np.arange(0, 5)]"
   ]
  },
  {
   "cell_type": "markdown",
   "id": "6fb2b6d3",
   "metadata": {},
   "source": [
    "Pour prendre le minimum dans l'axe des colonnes:"
   ]
  },
  {
   "cell_type": "code",
   "execution_count": 33,
   "id": "a8b0ef33",
   "metadata": {},
   "outputs": [
    {
     "data": {
      "text/plain": [
       "array([ 1,  6, 11])"
      ]
     },
     "execution_count": 33,
     "metadata": {},
     "output_type": "execute_result"
    }
   ],
   "source": [
    "np.min(al, axis=1)"
   ]
  },
  {
   "cell_type": "code",
   "execution_count": 34,
   "id": "1cd334d6",
   "metadata": {},
   "outputs": [
    {
     "data": {
      "text/plain": [
       "array([0, 0, 0])"
      ]
     },
     "execution_count": 34,
     "metadata": {},
     "output_type": "execute_result"
    }
   ],
   "source": [
    "np.argmin(al, axis=1)"
   ]
  },
  {
   "cell_type": "markdown",
   "id": "cb80e7f7",
   "metadata": {},
   "source": [
    "La suite de ce notebook sort des bases utiles et n'est que l'extension de l'agrégation en dimension > à 2 qui est immédiate. Elle n'est là que pour dire que ca existe."
   ]
  },
  {
   "cell_type": "markdown",
   "id": "d6e9b4ac",
   "metadata": {
    "tags": [
     "level_advanced"
    ]
   },
   "source": [
    "Pour les avancés, sauriez vous faire sur un ndarray en 2 dimensions, la fonction qui, étant donné une forme du tableau, l'axe et une liste d'indices dans cet axe, calcule la paire d'index ? Sauriez-vous généraliser cette fonction ?"
   ]
  },
  {
   "cell_type": "code",
   "execution_count": 35,
   "id": "ae4babe2",
   "metadata": {
    "tags": [
     "level_advanced"
    ]
   },
   "outputs": [],
   "source": [
    "# votre code ici"
   ]
  },
  {
   "cell_type": "markdown",
   "id": "92fd4aa3",
   "metadata": {
    "tags": [
     "level_advanced"
    ]
   },
   "source": [
    "## agrégation en dimension > 2"
   ]
  },
  {
   "cell_type": "markdown",
   "id": "dbca6105",
   "metadata": {
    "tags": [
     "level_advanced"
    ]
   },
   "source": [
    "Ce n'est sûrement pas très utile d'appliquer des fonctions d'agrégation sur des tableaux autres que des matrices ou des vecteurs, regardons très rapidement ce qui se passe dans certains cas."
   ]
  },
  {
   "cell_type": "markdown",
   "id": "3cdcb0c4",
   "metadata": {
    "tags": [
     "level_advanced"
    ]
   },
   "source": [
    "### sommons en dimension 3"
   ]
  },
  {
   "cell_type": "markdown",
   "id": "b472c18a",
   "metadata": {
    "tags": [
     "level_advanced"
    ]
   },
   "source": [
    "Générons 2 matrices de 3 lignes et 4 colonnes. Oui à partir de `np.random.randint` et son argument *size* par exemple. Cela vous permet de ne pas compter..."
   ]
  },
  {
   "cell_type": "code",
   "execution_count": 36,
   "id": "b02f6562",
   "metadata": {
    "tags": [
     "level_advanced"
    ]
   },
   "outputs": [
    {
     "data": {
      "text/plain": [
       "array([[[ 42, -77,  83, -73],\n",
       "        [ 19, -72,  73, -12],\n",
       "        [ 43,  67, -95, -96]],\n",
       "\n",
       "       [[-84,  -2, -70, -65],\n",
       "        [-97, -26, -68,  32],\n",
       "        [-59,  57,   0,  43]]])"
      ]
     },
     "execution_count": 36,
     "metadata": {},
     "output_type": "execute_result"
    }
   ],
   "source": [
    "mats = np.random.randint(-100, 100, size=(2, 3, 4))\n",
    "mats"
   ]
  },
  {
   "cell_type": "markdown",
   "id": "33e38885",
   "metadata": {
    "tags": [
     "level_advanced"
    ]
   },
   "source": [
    "Combien cette matrice a-t-elle de dimensions ? Oui 3. Combien d'axes ? Et bien oui 3 ?\n",
    "\n",
    "Quels sont les indices de ces axes ? 0, 1 et 2. A quoi correspondent-ils ? respectivement: aux matrices, aux lignes et aux colonnes."
   ]
  },
  {
   "cell_type": "markdown",
   "id": "7a0e7636",
   "metadata": {
    "tags": [
     "level_advanced"
    ]
   },
   "source": [
    "Si nous sommons sans mention d'axe nous sommons tous les éléments du `ndarray`, dans ses 2 versions"
   ]
  },
  {
   "cell_type": "code",
   "execution_count": 37,
   "id": "c6be573a",
   "metadata": {
    "tags": [
     "level_advanced"
    ]
   },
   "outputs": [
    {
     "data": {
      "text/plain": [
       "(-437, -437)"
      ]
     },
     "execution_count": 37,
     "metadata": {},
     "output_type": "execute_result"
    }
   ],
   "source": [
    "np.sum(mats), mats.sum()"
   ]
  },
  {
   "cell_type": "markdown",
   "id": "c15ee1ba",
   "metadata": {
    "tags": [
     "level_advanced"
    ]
   },
   "source": [
    "Si nous sommons sur l'axe des matrices, nous sommons les deux matrices ensemble:"
   ]
  },
  {
   "cell_type": "code",
   "execution_count": 38,
   "id": "788632de",
   "metadata": {
    "tags": [
     "level_advanced"
    ]
   },
   "outputs": [
    {
     "data": {
      "text/plain": [
       "array([[ -42,  -79,   13, -138],\n",
       "       [ -78,  -98,    5,   20],\n",
       "       [ -16,  124,  -95,  -53]])"
      ]
     },
     "execution_count": 38,
     "metadata": {},
     "output_type": "execute_result"
    }
   ],
   "source": [
    "np.sum(mats, axis=0)"
   ]
  },
  {
   "cell_type": "markdown",
   "id": "54975671",
   "metadata": {
    "tags": [
     "level_advanced"
    ]
   },
   "source": [
    "Si nous sommons sur l'axe des lignes nous sommons les lignes ensembles donc obtenons un tableau de la taille des lignes qui donne la somme des colonnes."
   ]
  },
  {
   "cell_type": "code",
   "execution_count": 39,
   "id": "07a33856",
   "metadata": {
    "tags": [
     "level_advanced"
    ]
   },
   "outputs": [
    {
     "data": {
      "text/plain": [
       "array([[ 104,  -82,   61, -181],\n",
       "       [-240,   29, -138,   10]])"
      ]
     },
     "execution_count": 39,
     "metadata": {},
     "output_type": "execute_result"
    }
   ],
   "source": [
    "np.sum(mats, axis=1)"
   ]
  },
  {
   "cell_type": "markdown",
   "id": "2b0f60e5",
   "metadata": {
    "tags": [
     "level_advanced"
    ]
   },
   "source": [
    "Si nous sommons sur l'axe des colonnes, nous sommons les colonnes ensembles donc obtenons un tableau de la taille des colonnes qui donne la somme des lignes."
   ]
  },
  {
   "cell_type": "code",
   "execution_count": 40,
   "id": "7a0d6365",
   "metadata": {
    "tags": [
     "level_advanced"
    ]
   },
   "outputs": [
    {
     "data": {
      "text/plain": [
       "array([[ -25,    8,  -81],\n",
       "       [-221, -159,   41]])"
      ]
     },
     "execution_count": 40,
     "metadata": {},
     "output_type": "execute_result"
    }
   ],
   "source": [
    "np.sum(mats, axis=2)"
   ]
  },
  {
   "cell_type": "markdown",
   "id": "c5027729",
   "metadata": {
    "tags": [
     "level_advanced"
    ]
   },
   "source": [
    "### calculons les min et max en dimension 4"
   ]
  },
  {
   "cell_type": "markdown",
   "id": "a9c95612",
   "metadata": {
    "tags": [
     "level_advanced"
    ]
   },
   "source": [
    "De la même manière nous pouvons calculer les min et les max ainsi que les arguments des min et des max en dimensions supérieures, par exemple là en dimension 4."
   ]
  },
  {
   "cell_type": "markdown",
   "id": "44103246",
   "metadata": {
    "tags": [
     "level_advanced"
    ]
   },
   "source": [
    "Supposons que nous prenions un tableau en dimension (2, 3, 4, 5). Dé-commentez les lignes suivantes si vous voulez en voir un."
   ]
  },
  {
   "cell_type": "code",
   "execution_count": 41,
   "id": "309fc467",
   "metadata": {
    "tags": [
     "level_advanced"
    ]
   },
   "outputs": [],
   "source": [
    "tab = np.arange(1, 121).reshape(4, 3, 2, 5)"
   ]
  },
  {
   "cell_type": "markdown",
   "id": "95b418e6",
   "metadata": {
    "tags": [
     "level_advanced"
    ]
   },
   "source": [
    "Appelons ce tableau: 4 paquets de 3 matrices de 2 lignes et de 2 colonnes.\n",
    "\n",
    "On va pouvoir demander le maximum, le minimum et leurs indices suivant tous les axes. Pour la signification de ces calculs ... il faut réfléchir.\n",
    "\n",
    "Par exemple, si on demande le maximum sur l'axe 0 où nous avons les 4 paquets. Regardons suivant cet axe, nous voyons (4 fois) 3 matrices avec 2 lignes et 5 colonnes, on aura donc cette forme pour la réponse (3, 2, 5). La dimension qui *disparaît* est celle de l'axe où on demande le calcul, les autres restent en agrégeant les calculs donc il nous reste (3, 2, 5), la dimension 4 a été agrégée lors du calcul."
   ]
  },
  {
   "cell_type": "code",
   "execution_count": 42,
   "id": "83d251bb",
   "metadata": {
    "tags": [
     "level_advanced"
    ]
   },
   "outputs": [
    {
     "data": {
      "text/plain": [
       "(3, 2, 5)"
      ]
     },
     "execution_count": 42,
     "metadata": {},
     "output_type": "execute_result"
    }
   ],
   "source": [
    "tab.max(axis=0).shape"
   ]
  },
  {
   "cell_type": "markdown",
   "id": "59582399",
   "metadata": {
    "tags": [
     "level_advanced"
    ]
   },
   "source": [
    "### testons en dimension 4\n",
    "\n",
    "Nous avons vu que `np.all` returns `True` si toutes les valeurs du tableau testé sont `True` (aucune n'est nulle) et `np.any` si au moins une n'est pas nulle. Ces fonctions, si-besoin, s'appellent bien sûr suivant les différents axes. Avec les interprétations dont nous avons déjà parlé.\n",
    "\n",
    "Prenons un tableau en dimension (2, 3, 4, 5) et demandons sur l'axe des colonnes (3 ou -1) si toutes les valeurs sont non-nulles. On va se retrouver avec une valeur par ligne donc la dimension qui *disparaît* est celle de l'axe où on demande le calcul, les autres restent en agrégeant les calculs donc il nous reste (2, 3, 4)."
   ]
  },
  {
   "cell_type": "code",
   "execution_count": 43,
   "id": "a094e178",
   "metadata": {
    "cell_style": "center",
    "tags": [
     "level_advanced"
    ]
   },
   "outputs": [],
   "source": [
    "tab = np.random.randint(-10, 10, size=(2, 3, 4, 5))"
   ]
  },
  {
   "cell_type": "code",
   "execution_count": 44,
   "id": "d59890ac",
   "metadata": {
    "tags": [
     "level_advanced"
    ]
   },
   "outputs": [
    {
     "data": {
      "text/plain": [
       "(2, 3, 4)"
      ]
     },
     "execution_count": 44,
     "metadata": {},
     "output_type": "execute_result"
    }
   ],
   "source": [
    "tab.max(axis=-1).shape"
   ]
  },
  {
   "cell_type": "markdown",
   "id": "1acebe21",
   "metadata": {
    "tags": [
     "level_advanced"
    ]
   },
   "source": [
    "On ne va pas aller plus loin. Attendez d'en avoir besoin."
   ]
  }
 ],
 "metadata": {
  "jupytext": {
   "cell_metadata_filter": "all,-hidden,-heading_collapsed",
   "cell_metadata_json": true,
   "notebook_metadata_filter": "all,-language_info,-toc,-jupytext.text_representation.jupytext_version,-jupytext.text_representation.format_version",
   "text_representation": {
    "extension": ".md",
    "format_name": "myst"
   }
  },
  "kernelspec": {
   "display_name": "Python 3",
   "language": "python",
   "name": "python3"
  },
  "language_info": {
   "codemirror_mode": {
    "name": "ipython",
    "version": 3
   },
   "file_extension": ".py",
   "mimetype": "text/x-python",
   "name": "python",
   "nbconvert_exporter": "python",
   "pygments_lexer": "ipython3",
   "version": "3.9.5"
  },
  "notebookname": "agrégation selon les axes",
  "source_map": [
   14,
   23,
   29,
   33,
   39,
   43,
   47,
   52,
   55,
   59,
   63,
   70,
   76,
   80,
   88,
   92,
   96,
   100,
   104,
   108,
   111,
   115,
   121,
   127,
   129,
   133,
   137,
   139,
   143,
   146,
   150,
   154,
   164,
   173,
   176,
   180,
   187,
   193,
   197,
   203,
   207,
   211,
   215,
   234,
   240,
   244,
   248,
   251,
   259,
   261,
   267,
   269,
   273,
   275,
   281,
   285,
   291,
   294,
   298,
   300,
   304,
   306,
   320,
   324,
   327,
   331,
   335,
   339,
   343,
   347,
   349,
   353,
   357,
   361,
   365,
   367,
   371,
   373,
   377,
   381,
   383,
   387,
   391,
   397,
   401,
   405,
   409,
   413,
   420,
   426,
   430,
   436,
   440,
   446,
   450,
   456,
   460,
   466,
   470,
   474,
   478,
   484,
   492,
   498,
   506,
   513,
   519
  ]
 },
 "nbformat": 4,
 "nbformat_minor": 5
}